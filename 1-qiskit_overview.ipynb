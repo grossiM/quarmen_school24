{
 "cells": [
  {
   "cell_type": "markdown",
   "id": "125bd72e",
   "metadata": {
    "slideshow": {
     "slide_type": "slide"
    }
   },
   "source": [
    "## Lecture 1 - some date\n",
    "\n",
    "This notebook presentation is part of my lecture material for the QUARMEN master (QUAntum Research Master Education Network): a two-year international master’s programme in physics, specialized in Quantum Science and Technology. It aims at training students in key concepts and technologies for quantum devices and information. \n",
    "\n",
    "This lecture contains a general introduction to parameterized quantum circuits, calculation of gradients and the Pennylane software platform.\n",
    "\n",
    "**Michele Grossi**, Coordinator of Quantum Computing and Algorithm Competence Center @ CERN \\\n",
    "Last updated: 03 apr 24"
   ]
  },
  {
   "cell_type": "markdown",
   "id": "9227166d",
   "metadata": {
    "slideshow": {
     "slide_type": "slide"
    }
   },
   "source": [
    "## Introduction to Qiskit\n",
    "\n",
    "Qiskit is a Python-based, open source software development toolkit (SDK) for working with quantum computers.  It can be used at the level of circuits, algorithms, and application modules."
   ]
  },
  {
   "cell_type": "markdown",
   "id": "a9eebce4",
   "metadata": {
    "slideshow": {
     "slide_type": "subslide"
    }
   },
   "source": [
    "### Installing Qiskit TO CHECK NEW VERSION\n",
    "\n",
    "Anaconda or a pyenv is recommended to manage all dependencies.\n",
    "The file environment.yml contains the required libraries and can be installed in this way:\n",
    "\n",
    "*Command:* `conda env create -f environment.yml`\n"
   ]
  },
  {
   "cell_type": "markdown",
   "id": "b06883db-b030-4cb8-930e-c5920e310ace",
   "metadata": {},
   "source": [
    "## 1. Create Bell state\n",
    "\n",
    "A *Bell state*, also known as an *EPR pair* (Einstein-Podolsky-Rosen pair), is a specific two-qubit state which is maximally entangled. Entanglement is another important phenomenon, which characterizes a quantum system, where the quantum states of two or more particles become correlated in such a way that the state of one particle cannot be described independently of the other, regardless of the distance between them.\n",
    "\n",
    "On the quantum circuit, Bell state can be created by applying a set of quantum states to the initial state $|00\\rangle$ :\n",
    "\n",
    "$$\n",
    "\\begin{align}\n",
    "& \\text{Initial State} = |00\\rangle \\nonumber \\\\ \\to & H_0|00\\rangle  = \\frac{1}{\\sqrt{2}} (|00\\rangle + |10\\rangle) \\nonumber \\\\\n",
    "\\to & CNOT_{01}  \\frac{1}{\\sqrt{2}} (|00\\rangle + |10\\rangle) = \\frac{1}{\\sqrt{2}} (|00\\rangle + |11\\rangle)\n",
    "\\end{align}$$  "
   ]
  },
  {
   "cell_type": "code",
   "execution_count": null,
   "id": "74e288c0-5d20-48d1-ac1e-b7620af3b77f",
   "metadata": {},
   "outputs": [],
   "source": [
    "from qiskit import QuantumCircuit\n",
    "from qiskit.quantum_info import SparsePauliOp\n",
    "from qiskit.transpiler.preset_passmanagers import generate_preset_pass_manager\n",
    "from qiskit_ibm_runtime import QiskitRuntimeService, EstimatorV2 as Estimator\n",
    " \n",
    "# Create a new circuit with two qubits (first argument) and two classical\n",
    "# bits (second argument)\n",
    "qc = QuantumCircuit(2)\n",
    " \n",
    "# Add a Hadamard gate to qubit 0\n",
    "qc.h(0)\n",
    " \n",
    "# Perform a controlled-X gate on qubit 1, controlled by qubit 0\n",
    "qc.cx(0, 1)\n",
    " \n",
    "# Return a drawing of the circuit using MatPlotLib (\"mpl\"). This is the\n",
    "# last line of the cell, so the drawing appears in the cell output.\n",
    "# Remove the \"mpl\" argument to get a text drawing.\n",
    "qc.draw(\"mpl\")"
   ]
  },
  {
   "cell_type": "markdown",
   "id": "ed116f95-c8a0-4a37-86d5-208dd4818476",
   "metadata": {},
   "source": [
    "You can use local testing mode with simulators from` Qiskit Aer`, which provides higher-performance simulation that can handle larger circuits and custom noise models. It also supports `Clifford` simulation mode, which can efficiently simulate Clifford circuits with a large number of qubits."
   ]
  },
  {
   "cell_type": "code",
   "execution_count": null,
   "id": "cc181c89-b5e7-4a9e-90d0-98d56646399d",
   "metadata": {},
   "outputs": [],
   "source": [
    "from qiskit_aer import AerSimulator\n",
    "# Print all the available quantum simulators\n",
    "simulator = AerSimulator()"
   ]
  },
  {
   "cell_type": "code",
   "execution_count": null,
   "id": "c61031b2-21c8-4b6b-9896-7412cba0aee9",
   "metadata": {},
   "outputs": [],
   "source": [
    "simulator.available_methods()"
   ]
  },
  {
   "cell_type": "code",
   "execution_count": null,
   "id": "cfd13b88-9eba-41e0-85e4-a9873a83f38c",
   "metadata": {},
   "outputs": [],
   "source": [
    "qc.save_statevector()\n",
    "transp_qc = transpile(qc, simulator)\n",
    "\n",
    "# Run and get statevector\n",
    "result = simulator.run(transp_qc).result()"
   ]
  },
  {
   "cell_type": "code",
   "execution_count": null,
   "id": "331e1df7-4ae0-4107-b9e3-7f89e0f5d528",
   "metadata": {},
   "outputs": [],
   "source": [
    "state = result.get_statevector(transp_qc)\n",
    "print(state)"
   ]
  },
  {
   "cell_type": "markdown",
   "id": "969f3d21-1edf-434c-94fa-62437e67dc24",
   "metadata": {},
   "source": [
    "#### Visualization of the state\n",
    "Multi-qubit states can be visualized with the methods other than the bloch sphere.  \n",
    "- `plot_state_city` : Displays the quantum states as the real and imaginary parts of the state matrix.\n",
    "- `plot_state_hinton` : Sampe as `plot_state_city`, but as a 2D colour plot.\n",
    "- `plot_state_qsphere` : Display the quantum state as a vector on a spherical ball. The thickness of the arrow corresponds to the amplitude of the state, and its color to the phase."
   ]
  },
  {
   "cell_type": "code",
   "execution_count": null,
   "id": "5db25253-11ec-403a-a384-f13ba0ac0350",
   "metadata": {},
   "outputs": [],
   "source": [
    "from qiskit.visualization import plot_state_city, plot_state_hinton, plot_state_qsphere, \\\n",
    "                                 plot_histogram"
   ]
  },
  {
   "cell_type": "code",
   "execution_count": null,
   "id": "00302a6c-5f26-4d48-b2fd-fb3be6795d8e",
   "metadata": {},
   "outputs": [],
   "source": [
    "plot_state_city(state, title='Bell state')"
   ]
  },
  {
   "cell_type": "code",
   "execution_count": null,
   "id": "f2611794-9cb7-464f-8bb7-0d02a1a21827",
   "metadata": {},
   "outputs": [],
   "source": [
    "plot_state_hinton(state)"
   ]
  },
  {
   "cell_type": "code",
   "execution_count": null,
   "id": "63525ec2-5b76-49d3-949e-4afbffd572b9",
   "metadata": {},
   "outputs": [],
   "source": [
    "#seaborn package required\n",
    "#plot_state_qsphere(state2)"
   ]
  },
  {
   "cell_type": "markdown",
   "id": "1cd41557-8546-4214-8484-914344e25c87",
   "metadata": {},
   "source": [
    "#### Simulate with Unitary simulator"
   ]
  },
  {
   "cell_type": "code",
   "execution_count": null,
   "id": "a070ac54-a12e-41cb-986c-882e52518fc9",
   "metadata": {},
   "outputs": [],
   "source": [
    "# Construct quantum circuit without measure\n",
    "bell = QuantumCircuit(2)\n",
    "bell.h(0)\n",
    "bell.cx(0, 1)\n",
    "bell.save_unitary()\n",
    "\n",
    "# Run the quantum circuit on a unitary simulator backend\n",
    "backend = AerSimulator(method = 'unitary')\n",
    "\n",
    "# Create job and execute\n",
    "job2 = backend.run(bell)\n",
    "result2 = job2.result()\n",
    "\n",
    "# Show the results\n",
    "print(result2.get_unitary(bell, decimals=3))\n"
   ]
  },
  {
   "cell_type": "markdown",
   "id": "d5470884-3aec-4b70-a8ee-900270a50306",
   "metadata": {},
   "source": [
    "#### Simulate with Qasm simulator\n",
    "\n",
    "Until now on, we simulated the quantum circuit. However in reality, we do not have direct access to the quantum state. Instead, each qubit should be *measured* at the end of the quantum circuit in specific basis (generally in the computational basis $|0\\rangle, |1\\rangle$). As soon as the quantum system is measured, the state $|\\psi\\rangle$ *collapses* to the measurement basis $|b\\rangle$ with a probability :\n",
    "$$\n",
    "P(b) == |\\langle b | \\psi \\rangle |^2.\n",
    "$$\n",
    "Unlike the previous steps, we need to add `ClassicalRegister` to measure the quantum circuit.\n",
    "All customization here: https://qiskit.github.io/qiskit-aer/tutorials/1_aersimulator.html"
   ]
  },
  {
   "cell_type": "code",
   "execution_count": null,
   "id": "e8476339-0add-4959-b6a4-63f7746c5072",
   "metadata": {},
   "outputs": [],
   "source": [
    "# Construct quantum circuit without measure\n",
    "bell = QuantumCircuit(2)\n",
    "bell.h(0)\n",
    "bell.cx(0, 1)\n",
    "# Measure qubits\n",
    "bell.measure_all()\n",
    "\n",
    "bell.draw(output = 'mpl')"
   ]
  },
  {
   "cell_type": "markdown",
   "id": "0e30a297-ce63-4b42-baa1-f2928203e4c3",
   "metadata": {},
   "source": [
    "# ALL methods together\n",
    "Simulation Method Option\n",
    "The simulation method is set using the method kwarg. A list supported simulation methods can be returned using available_methods(), these are\n",
    "\n",
    "1- `automatic`: Default simulation method. Select the simulation method automatically based on the circuit and noise model.\n",
    "\n",
    "2 - `statevector`: A dense statevector simulation that can sample measurement outcomes from ideal circuits with all measurements at end of the circuit. For noisy simulations each shot samples a randomly sampled noisy circuit from the noise model.\n",
    "\n",
    "3 - `density_matrix`: A dense density matrix simulation that may sample measurement outcomes from noisy circuits with all measurements at end of the circuit.\n",
    "\n",
    "4 - `stabilizer`: An efficient Clifford stabilizer state simulator that can simulate noisy Clifford circuits if all errors in the noise model are also Clifford errors.\n",
    "\n",
    "5 - `extended_stabilizer`: An approximate simulated for Clifford + T circuits based on a state decomposition into ranked-stabilizer state. The number of terms grows with the number of non-Clifford (T) gates.\n",
    "\n",
    "6 - `matrix_product_state`: A tensor-network statevector simulator that uses a Matrix Product State (MPS) representation for the state. This can be done either with or without truncation of the MPS bond dimensions depending on the simulator options. The default behaviour is no truncation.\n",
    "\n",
    "7 - `unitary`: A dense unitary matrix simulation of an ideal circuit. This simulates the unitary matrix of the circuit itself rather than the evolution of an initial quantum state. This method can only simulate gates, it does not support measurement, reset, or noise.\n",
    "\n",
    "8 - `superop`: A dense superoperator matrix simulation of an ideal or noisy circuit. This simulates the superoperator matrix of the circuit itself rather than the evolution of an initial quantum state. This method can simulate ideal and noisy gates, and reset, but does not support measurement."
   ]
  },
  {
   "cell_type": "code",
   "execution_count": null,
   "id": "84871417-3de0-41ec-86e1-d81890683dc2",
   "metadata": {},
   "outputs": [],
   "source": [
    "# Create circuit\n",
    "circ = QuantumCircuit(2)\n",
    "circ.h(0)\n",
    "circ.cx(0, 1)\n",
    "circ.measure_all()\n",
    "\n",
    "\n",
    "# Increase shots to reduce sampling variance\n",
    "shots = 10000\n",
    "\n",
    "\n",
    "\n",
    "# Statevector simulation method\n",
    "sim_statevector = AerSimulator(method='statevector')\n",
    "job_statevector = sim_statevector.run(circ, shots=shots)\n",
    "counts_statevector = job_statevector.result().get_counts(0)\n",
    "\n",
    "# Stabilizer simulation method\n",
    "sim_stabilizer = AerSimulator(method='stabilizer')\n",
    "job_stabilizer = sim_stabilizer.run(circ, shots=shots)\n",
    "counts_stabilizer = job_stabilizer.result().get_counts(0)\n",
    "\n",
    "\n",
    "# Extended Stabilizer method\n",
    "sim_extstabilizer = AerSimulator(method='extended_stabilizer')\n",
    "job_extstabilizer = sim_extstabilizer.run(circ, shots=shots)\n",
    "counts_extstabilizer = job_extstabilizer.result().get_counts(0)\n",
    "\n",
    "# Density Matrix simulation method\n",
    "sim_density = AerSimulator(method='density_matrix')\n",
    "job_density = sim_density.run(circ, shots=shots)\n",
    "counts_density = job_density.result().get_counts(0)\n",
    "\n",
    "# Matrix Product State simulation method\n",
    "sim_mps = AerSimulator(method='matrix_product_state')\n",
    "job_mps = sim_mps.run(circ, shots=shots)\n",
    "counts_mps = job_mps.result().get_counts(0)\n",
    "\n",
    "\n",
    "plot_histogram([ counts_statevector,counts_stabilizer ,counts_extstabilizer, counts_density, counts_mps],\n",
    "               title='Counts for different simulation methods',\n",
    "               legend=[ 'statevector',\n",
    "                       'density_matrix','stabilizer','extended_stabilizer', 'matrix_product_state'])"
   ]
  },
  {
   "cell_type": "markdown",
   "id": "f6e60d31",
   "metadata": {
    "slideshow": {
     "slide_type": "subslide"
    }
   },
   "source": [
    "### Extra: some additional functions"
   ]
  },
  {
   "cell_type": "code",
   "execution_count": null,
   "id": "04e62eb5",
   "metadata": {
    "slideshow": {
     "slide_type": "fragment"
    }
   },
   "outputs": [],
   "source": [
    "#Import the random circuit class\n",
    "from qiskit.circuit.random import random_circuit\n",
    "#Create two random circuits, each with 2 qubit registers and random #gate operator counts.\n",
    "qc1 = random_circuit(2,2)\n",
    "qc2 = random_circuit(2,4)\n",
    "#Concatenate the two random circuits\n",
    "qc = qc1.compose(qc2)\n",
    "#Draw the circuit\n",
    "qc.draw('mpl')"
   ]
  },
  {
   "cell_type": "code",
   "execution_count": null,
   "id": "f969e8d1",
   "metadata": {
    "slideshow": {
     "slide_type": "subslide"
    }
   },
   "outputs": [],
   "source": [
    "#Define function to print circuit properties:\n",
    "def print_circuit_props(qc):\n",
    "    width = qc.width()\n",
    "    depth = qc.depth()\n",
    "    num_operators = qc.count_ops()\n",
    "    circuit_size = qc.size()\n",
    "    print('Width = ',width) \n",
    "    print('Depth = ', depth)\n",
    "    print('Circuit size = ',circuit_size)\n",
    "    print('Number of operators = ', num_operators)"
   ]
  },
  {
   "cell_type": "code",
   "execution_count": null,
   "id": "25fcc2ff",
   "metadata": {
    "slideshow": {
     "slide_type": "fragment"
    }
   },
   "outputs": [],
   "source": [
    "#Pass our quantum circuit to print out the circuit properties\n",
    "print_circuit_props(qc)"
   ]
  },
  {
   "cell_type": "code",
   "execution_count": null,
   "id": "4037b5d3",
   "metadata": {
    "slideshow": {
     "slide_type": "subslide"
    }
   },
   "outputs": [],
   "source": [
    "qc = QuantumCircuit(3)\n",
    "qc.ccx(0,1,2)\n",
    "#Print out the circuit properties\n",
    "print_circuit_props(qc)\n",
    "qc.draw('mpl')"
   ]
  },
  {
   "cell_type": "code",
   "execution_count": null,
   "id": "7a8fa218",
   "metadata": {
    "slideshow": {
     "slide_type": "subslide"
    }
   },
   "outputs": [],
   "source": [
    "qc.decompose().draw('mpl')"
   ]
  },
  {
   "cell_type": "code",
   "execution_count": null,
   "id": "5106914c",
   "metadata": {
    "slideshow": {
     "slide_type": "fragment"
    }
   },
   "outputs": [],
   "source": [
    "#Print out the circuit properties\n",
    "print_circuit_props(qc.decompose())"
   ]
  },
  {
   "cell_type": "code",
   "execution_count": null,
   "id": "438ef08b",
   "metadata": {
    "slideshow": {
     "slide_type": "subslide"
    }
   },
   "outputs": [],
   "source": [
    "from qiskit import QuantumRegister\n",
    "#Create a custom two-qubit composite gate\n",
    "#Create the quantum register\n",
    "qr = QuantumRegister(2, name='qr_c')\n",
    "#Generate quantum circuit which will make up the composite gate\n",
    "comp_qc = QuantumCircuit(qr, name='my-composite')\n",
    "#Add any gates you wish to your composite gate\n",
    "comp_qc.h(0)\n",
    "comp_qc.cx(0, 1)\n",
    "#Create the composite instructions by converting \n",
    "#the QuantumCircuit to a list of Instructions\n",
    "composite_inst = comp_qc.to_instruction()\n",
    "#Draw the circuit which will represent the composite gate\n",
    "comp_qc.draw('mpl')"
   ]
  },
  {
   "cell_type": "code",
   "execution_count": null,
   "id": "60f9cc31",
   "metadata": {
    "slideshow": {
     "slide_type": "subslide"
    }
   },
   "outputs": [],
   "source": [
    "#Create another 3-qubit circuit \n",
    "qr2 = QuantumRegister(3, 'qr')\n",
    "#Create a quantum circuit using the quantum register\n",
    "qc = QuantumCircuit(qr2)\n",
    "#Add any arbitrary gates that would represent the function \n",
    "#of the composite gate \n",
    "qc.h(0)\n",
    "qc.cx(0,1)\n",
    "qc.cx(0,2)\n",
    "#Draw the composite circuit\n",
    "qc.draw('mpl')"
   ]
  },
  {
   "cell_type": "code",
   "execution_count": null,
   "id": "342d2867",
   "metadata": {},
   "outputs": [],
   "source": [
    "#Append your composite gate to the specified qubits. \n",
    "qc.append(composite_inst, [qr2[0], qr2[1]])\n",
    "#Draw the complete circuit\n",
    "qc.draw('mpl')"
   ]
  },
  {
   "cell_type": "markdown",
   "id": "efbf10b1",
   "metadata": {
    "slideshow": {
     "slide_type": "subslide"
    }
   },
   "source": [
    "## Parameterized circuits"
   ]
  },
  {
   "cell_type": "code",
   "execution_count": null,
   "id": "e8da1358",
   "metadata": {
    "slideshow": {
     "slide_type": "fragment"
    }
   },
   "outputs": [],
   "source": [
    "from qiskit.circuit import Parameter\n",
    "\n",
    "theta = Parameter('θ')\n",
    "\n",
    "n = 5\n",
    "\n",
    "qc = QuantumCircuit(5, 1)\n",
    "\n",
    "qc.h(0)\n",
    "for i in range(n-1):\n",
    "    qc.cx(i, i+1)\n",
    "\n",
    "qc.barrier()\n",
    "qc.rz(theta, range(5))\n",
    "qc.barrier()\n",
    "\n",
    "for i in reversed(range(n-1)):\n",
    "    qc.cx(i, i+1)\n",
    "qc.h(0)\n",
    "qc.measure(0, 0)\n"
   ]
  },
  {
   "cell_type": "code",
   "execution_count": null,
   "id": "2b5bd6db",
   "metadata": {
    "slideshow": {
     "slide_type": "subslide"
    }
   },
   "outputs": [],
   "source": [
    "qc.draw('mpl')"
   ]
  },
  {
   "cell_type": "markdown",
   "id": "45a5af3c",
   "metadata": {
    "slideshow": {
     "slide_type": "subslide"
    }
   },
   "source": [
    "### Binding parameters to values\n",
    "All circuit parameters must be bound before sending the circuit to a backend. This can be done as follows:\n",
    "- The `assign_parameters` method accepts a dictionary mapping `Parameter`s to values, and returns a new circuit with each parameter replaced by its corresponding value. Partial binding is supported, in which case the returned circuit will be parameterized by any `Parameter`s that were not mapped to a value.\n",
    "- See https://docs.quantum.ibm.com/api/qiskit/qiskit.circuit.ParameterExpression\n",
    "  "
   ]
  },
  {
   "cell_type": "code",
   "execution_count": null,
   "id": "9515875d",
   "metadata": {
    "slideshow": {
     "slide_type": "fragment"
    }
   },
   "outputs": [],
   "source": [
    "import numpy as np\n",
    "\n",
    "theta_range = np.linspace(0, 2 * np.pi, 128)\n",
    "\n",
    "circuits = [qc.assign_parameters({theta: theta_val})\n",
    "            for theta_val in theta_range]"
   ]
  },
  {
   "cell_type": "code",
   "execution_count": null,
   "id": "ab224705",
   "metadata": {
    "slideshow": {
     "slide_type": "subslide"
    }
   },
   "outputs": [],
   "source": [
    "circuits[-1].draw('mpl')"
   ]
  },
  {
   "cell_type": "code",
   "execution_count": null,
   "id": "45e1e502",
   "metadata": {
    "slideshow": {
     "slide_type": "subslide"
    }
   },
   "outputs": [],
   "source": [
    "simulator = AerSimulator(method='automatic')\n",
    "job = simulator.run(circuits, shots=shots)\n",
    "counts_simulator = job.result().get_counts()"
   ]
  },
  {
   "cell_type": "markdown",
   "id": "ce7c3ede",
   "metadata": {
    "slideshow": {
     "slide_type": "fragment"
    }
   },
   "source": [
    "In the example circuit, we apply a global $R_z(\\theta)$ rotation on a five-qubit entangled state, and so expect to see oscillation in qubit-0 at $5\\theta$."
   ]
  },
  {
   "cell_type": "code",
   "execution_count": null,
   "id": "e300292b",
   "metadata": {
    "slideshow": {
     "slide_type": "subslide"
    }
   },
   "outputs": [],
   "source": [
    "import matplotlib.pyplot as plt\n",
    "fig = plt.figure(figsize=(8,6))\n",
    "ax = fig.add_subplot(111)\n",
    "\n",
    "ax.plot(theta_range, list(map(lambda c: c.get('0', 0), counts_simulator)), '.-', label='0')\n",
    "ax.plot(theta_range, list(map(lambda c: c.get('1', 0), counts_simulator)), '.-', label='1') \n",
    "\n",
    "ax.set_xticks([i * np.pi / 2 for i in range(5)])\n",
    "ax.set_xticklabels(['0', r'$\\frac{\\pi}{2}$', r'$\\pi$', r'$\\frac{3\\pi}{2}$', r'$2\\pi$'], fontsize=14)\n",
    "ax.set_xlabel('θ', fontsize=14)\n",
    "ax.set_ylabel('Counts', fontsize=14)\n",
    "ax.legend(fontsize=14)"
   ]
  },
  {
   "cell_type": "markdown",
   "id": "56de0a8c",
   "metadata": {
    "slideshow": {
     "slide_type": "subslide"
    }
   },
   "source": [
    "NB To insert a subcircuit under a different parameterization, the `to_instruction` method accepts an optional argument (`parameter_map`) which, when present, will generate instructions with the source parameter replaced by a new parameter."
   ]
  },
  {
   "cell_type": "code",
   "execution_count": null,
   "id": "251bc580",
   "metadata": {
    "slideshow": {
     "slide_type": "fragment"
    }
   },
   "outputs": [],
   "source": [
    "p = Parameter('p')\n",
    "qc = QuantumCircuit(3, name='oracle')\n",
    "qc.rz(p, 0)\n",
    "qc.cx(0, 1)\n",
    "qc.rz(p, 1)\n",
    "qc.cx(1, 2)\n",
    "qc.rz(p, 2)\n",
    "\n",
    "theta = Parameter('theta')\n",
    "phi = Parameter('phi')\n",
    "gamma = Parameter('gamma')\n",
    "\n",
    "qr = QuantumRegister(9)\n",
    "larger_qc = QuantumCircuit(qr)\n",
    "larger_qc.append(qc.to_instruction({p: theta}), qr[0:3])\n",
    "larger_qc.append(qc.to_instruction({p: phi}), qr[3:6])\n",
    "larger_qc.append(qc.to_instruction({p: gamma}), qr[6:9])"
   ]
  },
  {
   "cell_type": "code",
   "execution_count": null,
   "id": "42810ac5",
   "metadata": {
    "slideshow": {
     "slide_type": "subslide"
    }
   },
   "outputs": [],
   "source": [
    "print(larger_qc.draw())"
   ]
  },
  {
   "cell_type": "code",
   "execution_count": null,
   "id": "a4612e63",
   "metadata": {},
   "outputs": [],
   "source": [
    "print(larger_qc.decompose().draw())"
   ]
  },
  {
   "cell_type": "markdown",
   "id": "1c75447a",
   "metadata": {
    "slideshow": {
     "slide_type": "subslide"
    }
   },
   "source": [
    "### Extra about visualization"
   ]
  },
  {
   "cell_type": "code",
   "execution_count": null,
   "id": "ac1f30b0-023d-4527-8425-bd4ff54edf0a",
   "metadata": {},
   "outputs": [],
   "source": [
    "import numpy as np\n",
    "from qiskit.visualization import plot_bloch_vector\n",
    " \n",
    "# You can use spherical coordinates instead of cartesian.\n",
    "plot_bloch_vector([1, np.pi/2, np.pi/3], coord_type='spherical')\n",
    "\n"
   ]
  },
  {
   "cell_type": "code",
   "execution_count": null,
   "id": "29493c9d",
   "metadata": {
    "slideshow": {
     "slide_type": "fragment"
    }
   },
   "outputs": [],
   "source": [
    "from qiskit import QuantumCircuit\n",
    "from qiskit.quantum_info import Statevector\n",
    "from qiskit.visualization import plot_state_qsphere\n",
    " \n",
    "\n",
    "plot_state_qsphere(state)"
   ]
  },
  {
   "cell_type": "code",
   "execution_count": null,
   "id": "9e798d85",
   "metadata": {
    "slideshow": {
     "slide_type": "fragment"
    }
   },
   "outputs": [],
   "source": [
    "# You can show the phase of each state and use\n",
    "# degrees instead of radians\n",
    " \n",
    "from qiskit.quantum_info import DensityMatrix\n",
    "import numpy as np\n",
    "from qiskit import QuantumCircuit\n",
    "from qiskit.visualization import plot_state_qsphere\n",
    " \n",
    "qc = QuantumCircuit(2)\n",
    "qc.h([0, 1])\n",
    "qc.cz(0,1)\n",
    "qc.ry(np.pi/3, 0)\n",
    "qc.rx(np.pi/5, 1)\n",
    "qc.z(1)\n",
    " \n",
    "matrix = DensityMatrix(qc)\n",
    "plot_state_qsphere(matrix,show_state_phases = True, use_degrees = True)"
   ]
  },
  {
   "cell_type": "markdown",
   "id": "8367eea9",
   "metadata": {
    "slideshow": {
     "slide_type": "slide"
    }
   },
   "source": [
    "# Introduction to providers"
   ]
  },
  {
   "cell_type": "markdown",
   "id": "1eb493ec-5b5a-4141-8d10-0d4e02f0e029",
   "metadata": {},
   "source": [
    "## Runtime local testing mode"
   ]
  },
  {
   "cell_type": "markdown",
   "id": "912fdb94-c381-41c9-961d-a77b82adf30a",
   "metadata": {},
   "source": [
    "Local testing mode (available with `qiskit-ibm-runtime` 0.22.0 or later) can be used to help develop and test programs before fine-tuning them and sending them to real quantum hardware.  After using local testing mode to verify your program, all you need to change is the backend name to run it on an IBM Quantum system.\n",
    "\n",
    "To use local testing mode, specify one of the fake backends from `qiskit_ibm_runtime.fake_provider` or specify a Qiskit Aer backend when instantiating a primitive or a session.\n",
    "\n",
    "*   **Fake backends**: The [fake backends](/api/qiskit-ibm-runtime/fake_provider)  in `qiskit_ibm_runtime.fake_provider` mimic the behaviors of IBM Quantum™ systems by using system snapshots. The system snapshots contain important information about the quantum system, such as the coupling map, basis gates, and qubit properties, which are useful for testing the transpiler and performing noisy simulations of the system. The noise model from the snapshot is automatically applied during simulation.\n",
    "\n",
    "*   **Aer simulator**: Simulators from [Qiskit Aer](simulate-with-qiskit-aer) provide higher-performance simulation that can handle larger circuits and [custom noise models](building_noise_models). It also supports Clifford simulation mode, which can efficiently simulate Clifford circuits with a large number of qubits.\n",
    "\n",
    "{/* If you currently use the Qiskit SDK, you can use the existing Qiskit Aer primitives for local testing.  See [exact and noisy simulation with Qiskit Aer primitives](../verify/simulate-with-qiskit-aer) for details. */}\n"
   ]
  },
  {
   "cell_type": "markdown",
   "id": "4c0c90cf-011a-40a7-bb24-9f8bd712c818",
   "metadata": {},
   "source": [
    "## Fake backends example"
   ]
  },
  {
   "cell_type": "code",
   "execution_count": null,
   "id": "2ba71fa3-2dd5-4b28-84c8-f94b8fe06fee",
   "metadata": {},
   "outputs": [],
   "source": [
    "from qiskit.circuit import QuantumCircuit\n",
    "from qiskit.transpiler.preset_passmanagers import generate_preset_pass_manager\n",
    "from qiskit_ibm_runtime import SamplerV2 as Sampler\n",
    "from qiskit_ibm_runtime.fake_provider import FakeManilaV2\n",
    "\n",
    "# Bell Circuit\n",
    "qc = QuantumCircuit(2)\n",
    "qc.h(0)\n",
    "qc.cx(0, 1)\n",
    "qc.measure_all()\n",
    "\n",
    "# Run the sampler job locally using FakeManilaV2\n",
    "fake_manila = FakeManilaV2()\n",
    "pm = generate_preset_pass_manager(backend=fake_manila, optimization_level=1)\n",
    "isa_qc = pm.run(qc)\n",
    "\n",
    "# You can use a fixed seed to get fixed results.\n",
    "options = {\"simulator\": {\"seed_simulator\": 42}}\n",
    "sampler = Sampler(backend=fake_manila, options=options)\n",
    "\n",
    "result = sampler.run([isa_qc]).result()"
   ]
  },
  {
   "cell_type": "markdown",
   "id": "668f1b4c-05c3-4514-8fad-fd7c03653306",
   "metadata": {},
   "source": [
    "## AerSimulator examples\n",
    "\n",
    "Example with sessions, without noise:"
   ]
  },
  {
   "cell_type": "code",
   "execution_count": null,
   "id": "d99e3ace-80ef-4642-9638-dac75d9a5a35",
   "metadata": {},
   "outputs": [],
   "source": [
    "from qiskit_aer import AerSimulator\n",
    "from qiskit.circuit import QuantumCircuit\n",
    "from qiskit.transpiler.preset_passmanagers import generate_preset_pass_manager\n",
    "from qiskit_ibm_runtime import Session, SamplerV2 as Sampler\n",
    "\n",
    "# Bell Circuit\n",
    "qc = QuantumCircuit(2)\n",
    "qc.h(0)\n",
    "qc.cx(0, 1)\n",
    "qc.measure_all()\n",
    "\n",
    "# Run the sampler job locally using AerSimulator.\n",
    "# Session syntax is supported but ignored because local mode doesn't support sessions.\n",
    "aer_sim = AerSimulator()\n",
    "pm = generate_preset_pass_manager(backend=aer_sim, optimization_level=1)\n",
    "isa_qc = pm.run(qc)\n",
    "with Session(backend=aer_sim) as session:\n",
    "    sampler = Sampler(session=session)\n",
    "    result = sampler.run([isa_qc]).result()"
   ]
  },
  {
   "cell_type": "markdown",
   "id": "106190c7-2003-45f8-8c41-b5c748b78bd1",
   "metadata": {},
   "source": [
    "### Clifford simulation\n",
    "\n",
    "Because Clifford circuits can be simulated efficiently with verifiable results, Clifford simulation is a very useful tool. For an in-depth example, see [Efficient simulation of stabilizer circuits with Qiskit Aer primitives](stabilizer-circuit-simulation).\n",
    "\n",
    "Example:"
   ]
  },
  {
   "cell_type": "code",
   "execution_count": null,
   "id": "e42ce01a-6f90-4cf7-9ba0-2d607eca9a37",
   "metadata": {},
   "outputs": [],
   "source": [
    "import numpy as np\n",
    "from qiskit.circuit.library import EfficientSU2\n",
    "from qiskit_ibm_runtime import SamplerV2 as Sampler\n",
    "\n",
    "n_qubits = 500  # <---- note this uses 500 qubits!\n",
    "circuit = EfficientSU2(n_qubits)\n",
    "circuit.measure_all()\n",
    "\n",
    "rng = np.random.default_rng(1234)\n",
    "params = rng.choice(\n",
    "    [0, np.pi / 2, np.pi, 3 * np.pi / 2],\n",
    "    size=circuit.num_parameters,\n",
    ")\n",
    "\n",
    "# Tell Aer to use the stabilizer (clifford) simulation method\n",
    "aer_sim = AerSimulator(method=\"stabilizer\")\n",
    "\n",
    "pm = generate_preset_pass_manager(backend=aer_sim, optimization_level=1)\n",
    "isa_qc = pm.run(qc)\n",
    "sampler = Sampler(backend=aer_sim)\n",
    "result = sampler.run([isa_qc]).result()"
   ]
  },
  {
   "cell_type": "markdown",
   "id": "a3e29975-575f-42fe-92f5-3fcde86bdc3c",
   "metadata": {},
   "source": [
    "## Noisy Simulation\n",
    "Here we show how to use the Qiskit Aer [`noise`](https://qiskit.org/ecosystem/aer/apidocs/aer_noise.html) module to build noise models for simulating quantum circuits in the presence of errors. This is useful for emulating noisy quantum processors and for studying the effects of noise on the execution of quantum algorithms."
   ]
  },
  {
   "cell_type": "code",
   "execution_count": null,
   "id": "0f03ced6-9c8f-42dc-ad06-b497a63a294d",
   "metadata": {},
   "outputs": [],
   "source": [
    "import numpy as np\n",
    "from qiskit import QuantumCircuit\n",
    "from qiskit.quantum_info import Kraus, SuperOp\n",
    "from qiskit.visualization import plot_histogram\n",
    "from qiskit.transpiler.preset_passmanagers import generate_preset_pass_manager\n",
    "from qiskit_aer import AerSimulator\n",
    "\n",
    "# Import from Qiskit Aer noise module\n",
    "from qiskit_aer.noise import (\n",
    "    NoiseModel,\n",
    "    QuantumError,\n",
    "    ReadoutError,\n",
    "    depolarizing_error,\n",
    "    pauli_error,\n",
    "    thermal_relaxation_error,\n",
    ")"
   ]
  },
  {
   "cell_type": "markdown",
   "id": "8ca05f28-1b0f-4217-a394-b46782c9029c",
   "metadata": {},
   "source": [
    "## Qiskit Aer `noise` module\n",
    "\n",
    "The Qiskit Aer `noise` module contains Python classes to build customized noise models for simulation. There are three key classes:\n",
    "\n",
    "1.  The `NoiseModel` class which stores a noise model used for noisy simulation.\n",
    "\n",
    "2.  The `QuantumError` class which describes CPTP gate errors. These can be applied:\n",
    "\n",
    "    *   After *gate* or *reset* instructions\n",
    "\n",
    "    *   Before *measure* instructions.\n",
    "\n",
    "3.  The `ReadoutError` class which describes classical readout errors.\n"
   ]
  },
  {
   "cell_type": "markdown",
   "id": "bbe87e6f-1dff-409e-a0b7-ca99452e8355",
   "metadata": {},
   "source": [
    "## Quantum errors\n",
    "\n",
    "Rather than deal with the `QuantumError` object directly, many helper functions exist to automatically generate a specific type of parameterized quantum error. These are contained in the `noise` module and include functions for many common errors types used in quantum computing research. The function names and the type of error they return are:\n",
    "\n",
    "\\| Standard error function | Details |\n",
    "\n",
    "\\| --- | --- |\n",
    "\n",
    "\\| `kraus_error` | a general n-qubit CPTP error channel given as a list of Kraus matrices $[K_0, ...]$. |\n",
    "\n",
    "\\| `mixed_unitary_error` | an n-qubit mixed unitary error given as a list of unitary matrices and probabilities $[(U_0, p_0),...]$. |\n",
    "\n",
    "\\| `coherent_unitary_error` | an n-qubit coherent unitary error given as a single unitary matrix $U$. |\n",
    "\n",
    "\\| `pauli_error` | an n-qubit Pauli error channel (mixed unitary) given as a list of Pauli's and probabilities $[(P_0, p_0),...]$ |\n",
    "\n",
    "\\| `depolarizing_error` | an n-qubit depolarizing error channel parameterized by a depolarization probability $p$. |\n",
    "\n",
    "\\| `reset_error` | a single-qubit reset error parameterized by a probabilities $p_0, p_1$ of resetting to the $|0\\rangle$, $|1\\rangle$ state.|\n",
    "\n",
    "\\| `thermal_relaxation_error` | a single qubit thermal relaxation channel parameterized by relaxation time constants $T_1$, $T_2$, gate time $t$, and excited state thermal population $p_1$. |\n",
    "\n",
    "\\| `phase_amplitude_damping_error` | A single-qubit generalized combined phase and amplitude damping error channel given by an amplitude damping parameter $\\lambda$, a phase damping parameter $\\gamma$, and an excited state thermal population $p_1$. |\n",
    "\n",
    "\\| `amplitude_damping_error` |  A single-qubit generalized amplitude damping error channel given by an amplitude damping parameter $\\lambda$, and an excited state thermal population $p_1$. |\n",
    "\n",
    "\\| `phase_damping_error` |  A single-qubit phase damping error channel given by a phase damping parameter $\\gamma$ |\n",
    "\n",
    "### Combining quantum errors\n",
    "\n",
    "`QuantumError` instances can be combined by using composition, tensor product, and tensor expansion (reversed order tensor product) to produce new `QuantumErrors` as:\n",
    "\n",
    "*   Composition: $\\cal{E}(\\rho)=\\cal{E_2}(\\cal{E_1}(\\rho))$ as `error = error1.compose(error2)`\n",
    "\n",
    "*   Tensor product: $\\cal{E}(\\rho) =(\\cal{E_1}\\otimes\\cal{E_2})(\\rho)$ as `error error1.tensor(error2)`\n",
    "\n",
    "*   Expand product: $\\cal{E}(\\rho) =(\\cal{E_2}\\otimes\\cal{E_1})(\\rho)$ as `error error1.expand(error2)`\n"
   ]
  },
  {
   "cell_type": "markdown",
   "id": "0c25544b-cfce-4289-9c40-ba615e4c9587",
   "metadata": {},
   "source": [
    "### Example\n",
    "To construct a 5% single-qubit bit-flip error:"
   ]
  },
  {
   "cell_type": "code",
   "execution_count": null,
   "id": "3819c76f-dd03-4298-8032-00fe58d3e325",
   "metadata": {},
   "outputs": [],
   "source": [
    "# Construct a 1-qubit bit-flip and phase-flip errors\n",
    "p_error = 0.05\n",
    "bit_flip = pauli_error([('X', p_error), ('I', 1 - p_error)])\n",
    "phase_flip = pauli_error([('Z', p_error), ('I', 1 - p_error)])\n",
    "print(bit_flip)\n",
    "print(phase_flip)"
   ]
  },
  {
   "cell_type": "code",
   "execution_count": null,
   "id": "2f68cc00-ad59-4adf-9b0f-44994fec6803",
   "metadata": {},
   "outputs": [],
   "source": [
    "# Compose two bit-flip and phase-flip errors\n",
    "bitphase_flip = bit_flip.compose(phase_flip)\n",
    "print(bitphase_flip)"
   ]
  },
  {
   "cell_type": "markdown",
   "id": "d57198bd-7b98-4d21-adc2-b4cd96962370",
   "metadata": {},
   "source": [
    "### Converting to and from QuantumChannel operators\n",
    "\n",
    "We can also convert back and forth between `QuantumError` objects in Qiskit Aer and `QuantumChannel` objects in Qiskit."
   ]
  },
  {
   "cell_type": "code",
   "execution_count": null,
   "id": "dd76d5e6-b9f9-474d-a5ba-e44493d9e257",
   "metadata": {},
   "outputs": [],
   "source": [
    "# Convert to Kraus operator\n",
    "bit_flip_kraus = Kraus(bit_flip)\n",
    "print(bit_flip_kraus)"
   ]
  },
  {
   "cell_type": "markdown",
   "id": "04d8d9b3-88f7-4bba-b95a-9cffa9526cb0",
   "metadata": {},
   "source": [
    "### Execute a noisy simulation with a noise model\n",
    "\n",
    "The command `AerSimulator(noise_model=noise_model)` returns a simulator configured to the given noise model. In addition to setting the simulator's noise model, it also overrides the simulator's basis gates, according to the gates of the noise model."
   ]
  },
  {
   "cell_type": "markdown",
   "id": "187c0d02-9d7e-4c53-b2db-cdc928e631c7",
   "metadata": {},
   "source": [
    "### Noise model examples\n",
    "\n",
    "We will now give some examples of noise models. For our demonstrations we use a simple test circuit generating a n-qubit GHZ state:\n"
   ]
  },
  {
   "cell_type": "code",
   "execution_count": null,
   "id": "a81663df-e754-42db-896c-89261df73722",
   "metadata": {},
   "outputs": [],
   "source": [
    "# System Specification\n",
    "n_qubits = 4\n",
    "circ = QuantumCircuit(n_qubits)\n",
    "\n",
    "# Test Circuit\n",
    "circ.h(0)\n",
    "for qubit in range(n_qubits - 1):\n",
    "    circ.cx(qubit, qubit + 1)\n",
    "circ.measure_all()\n",
    "print(circ)"
   ]
  },
  {
   "cell_type": "code",
   "execution_count": null,
   "id": "4784c39e-2c5e-4e2e-bd51-8c8e2e749a0e",
   "metadata": {},
   "outputs": [],
   "source": [
    "# Ideal simulator and execution\n",
    "sim_ideal = AerSimulator()\n",
    "result_ideal = sim_ideal.run(circ).result()\n",
    "plot_histogram(result_ideal.get_counts(0))"
   ]
  },
  {
   "cell_type": "markdown",
   "id": "3a61aa15-9c8e-4613-bb5f-721e3055a4fb",
   "metadata": {},
   "source": [
    "## Noise example 1: Basic bit-flip error noise model\n",
    "\n",
    "Let's consider a simple toy noise model example common in quantum information theory research:\n",
    "\n",
    "*   When applying a single-qubit gate, flip the state of the qubit with probability `p_gate1`.\n",
    "\n",
    "*   When applying a two-qubit gate, apply single-qubit errors to each qubit.\n",
    "\n",
    "*   When resetting a qubit, reset to 1 instead of 0 with probability `p_reset`.\n",
    "\n",
    "*   When measuring a qubit, flip the state of the qubit with probability `p_meas`."
   ]
  },
  {
   "cell_type": "code",
   "execution_count": null,
   "id": "eb453750-796a-4ac4-97b0-4e81ff89a2b7",
   "metadata": {},
   "outputs": [],
   "source": [
    "# Example error probabilities\n",
    "p_reset = 0.03\n",
    "p_meas = 0.1\n",
    "p_gate1 = 0.05\n",
    "\n",
    "# QuantumError objects\n",
    "error_reset = pauli_error([('X', p_reset), ('I', 1 - p_reset)])\n",
    "error_meas = pauli_error([('X',p_meas), ('I', 1 - p_meas)])\n",
    "error_gate1 = pauli_error([('X',p_gate1), ('I', 1 - p_gate1)])\n",
    "error_gate2 = error_gate1.tensor(error_gate1)\n",
    "\n",
    "# Add errors to noise model\n",
    "noise_bit_flip = NoiseModel()\n",
    "noise_bit_flip.add_all_qubit_quantum_error(error_reset, \"reset\")\n",
    "noise_bit_flip.add_all_qubit_quantum_error(error_meas, \"measure\")\n",
    "noise_bit_flip.add_all_qubit_quantum_error(error_gate1, [\"u1\", \"u2\", \"u3\"])\n",
    "noise_bit_flip.add_all_qubit_quantum_error(error_gate2, [\"cx\"])\n",
    "\n",
    "print(noise_bit_flip)"
   ]
  },
  {
   "cell_type": "markdown",
   "id": "5d72600a-3e0b-4c51-8c0a-74ef6403c6f5",
   "metadata": {},
   "source": [
    "### Execute the noisy simulation"
   ]
  },
  {
   "cell_type": "code",
   "execution_count": null,
   "id": "d5d45798-4007-4a74-abf9-b219a318a223",
   "metadata": {},
   "outputs": [],
   "source": [
    "# Create noisy simulator backend\n",
    "sim_noise = AerSimulator(noise_model=noise_bit_flip)\n",
    "\n",
    "\n",
    "# Transpile circuit for noisy basis gates\n",
    "passmanager = generate_preset_pass_manager(optimization_level=3, backend=sim_noise)\n",
    "circ_tnoise = passmanager.run(circ)\n",
    "\n",
    "# Run and get counts\n",
    "result_bit_flip = sim_noise.run(circ_tnoise).result()\n",
    "counts_bit_flip = result_bit_flip.get_counts(0)\n",
    "\n",
    "# Plot noisy output\n",
    "plot_histogram(counts_bit_flip)"
   ]
  },
  {
   "cell_type": "markdown",
   "id": "5137b556-8b66-47f0-80de-b78d773ed20f",
   "metadata": {},
   "source": [
    "### Real HW simulation\n",
    "To simulate with noise, specify a system (quantum hardware) and submit it to Aer.  Aer builds a noise model based on the calibration data from that system, and instantiates an Aer backend with that model.  If you prefer, you can [build a noise model](/verify/building_noise_models)."
   ]
  },
  {
   "cell_type": "code",
   "execution_count": null,
   "id": "abddb38e-3097-4abe-9fcd-cf566437db9d",
   "metadata": {},
   "outputs": [],
   "source": [
    "from qiskit_aer import AerSimulator\n",
    "from qiskit.circuit import QuantumCircuit\n",
    "from qiskit.transpiler.preset_passmanagers import generate_preset_pass_manager\n",
    "from qiskit_ibm_runtime import SamplerV2 as Sampler, QiskitRuntimeService\n",
    "\n",
    "# Bell Circuit\n",
    "qc = QuantumCircuit(2)\n",
    "qc.h(0)\n",
    "qc.cx(0, 1)\n",
    "qc.measure_all()\n",
    "\n",
    "service = QiskitRuntimeService()\n",
    "\n",
    "# Specify a system to use for the noise model\n",
    "real_backend = service.backend(\"ibm_brisbane\")\n",
    "aer = AerSimulator.from_backend(real_backend)\n",
    "\n",
    "# Run the sampler job locally using AerSimulator.\n",
    "pm = generate_preset_pass_manager(backend=aer, optimization_level=1)\n",
    "isa_qc = pm.run(qc)\n",
    "sampler = Sampler(backend=aer)\n",
    "result = sampler.run([isa_qc]).result()"
   ]
  },
  {
   "cell_type": "markdown",
   "id": "14f77c55-d1c2-4660-aa49-f8bdec808efe",
   "metadata": {},
   "source": [
    "### General Backend\n",
    " `GenericBackendV2`, to the `qiskit.providers.fake_provider module`. This class is configurable, and builds a `BackendV2` backend instance that can be run locally (in the spirit of fake backends). Users can configure the number of qubits, basis gates, coupling map, ability to run dynamic circuits (control flow instructions), instruction calibrations and measurement timestep of the backend without having to deal with manual target construction. Qubit and gate properties (duration, error) are generated by randomly sampling from default ranges. The seed for this random generation can be fixed to ensure the reproducibility of the backend output. It’s important to note that this backend only supports gates in the standard library. If you need a more flexible backend, there is always the option to directly instantiate a `Target` object to use for transpilation."
   ]
  },
  {
   "cell_type": "markdown",
   "id": "d588e2ef-8f27-4b14-96d5-49a18fb3dfaf",
   "metadata": {},
   "source": [
    "Here, in addition, we visualize a scheduled circuit program. You can call this function with set of control arguments. Most of appearance of the output image can be controlled by the stylesheet.\n",
    "#### Drawing with the stylesheet suited for program debugging."
   ]
  },
  {
   "cell_type": "code",
   "execution_count": null,
   "id": "d90dadd7-25f7-4720-b8f2-20eafafebc50",
   "metadata": {},
   "outputs": [],
   "source": [
    "from qiskit import QuantumCircuit, transpile, schedule\n",
    "from qiskit.visualization.timeline import draw, IQXDebugging\n",
    "from qiskit.providers.fake_provider import GenericBackendV2\n",
    " \n",
    "qc = QuantumCircuit(2)\n",
    "qc.h(0)\n",
    "qc.cx(0,1)\n",
    " \n",
    "qc = transpile(qc, GenericBackendV2(5), scheduling_method='alap', layout_method='trivial')\n",
    "draw(qc, style=IQXDebugging())"
   ]
  },
  {
   "cell_type": "code",
   "execution_count": null,
   "id": "649805ff-106b-4081-953e-d698adf50d23",
   "metadata": {},
   "outputs": [],
   "source": [
    "from qiskit import QuantumCircuit, transpile\n",
    "from qiskit.providers.fake_provider import GenericBackendV2\n",
    " \n",
    "# Create a simple circuit\n",
    "circuit = QuantumCircuit(3)\n",
    "circuit.h(0)\n",
    "circuit.cx(0,1)\n",
    "circuit.cx(0,2)\n",
    "circuit.measure_all()\n",
    "circuit.draw('mpl')"
   ]
  },
  {
   "cell_type": "code",
   "execution_count": null,
   "id": "a8a2611f-0c56-44f7-b311-e8a1c936faa0",
   "metadata": {},
   "outputs": [],
   "source": [
    "from qiskit.visualization.timeline import draw, IQXDebugging\n",
    "\n",
    "# Define backend with 3 qubits\n",
    "backend = GenericBackendV2(num_qubits=3)\n",
    " \n",
    "# Transpile and run\n",
    "transpiled_circuit = transpile(circuit, backend)\n",
    "\n",
    "result = backend.run(transpiled_circuit).result()"
   ]
  },
  {
   "cell_type": "code",
   "execution_count": null,
   "id": "d9a89507-2287-47e8-8f6e-94cec54680f6",
   "metadata": {},
   "outputs": [],
   "source": [
    "result"
   ]
  },
  {
   "cell_type": "markdown",
   "id": "24a8d02e-3eb0-44aa-ab5a-db1752ec94d9",
   "metadata": {},
   "source": [
    "### Example 2"
   ]
  },
  {
   "cell_type": "code",
   "execution_count": null,
   "id": "db4e58df-b645-4934-9b73-e626af99d134",
   "metadata": {},
   "outputs": [],
   "source": [
    "from qiskit import QuantumCircuit, ClassicalRegister, transpile\n",
    "from qiskit.providers.fake_provider import GenericBackendV2\n",
    " \n",
    "# Create a circuit with classical control\n",
    "creg = ClassicalRegister(19)\n",
    "qc = QuantumCircuit(25)\n",
    "qc.add_register(creg)\n",
    "qc.h(0)\n",
    "for i in range(18):\n",
    "    qc.cx(0, i + 1)\n",
    "for i in range(18):\n",
    "    qc.measure(i, creg[i])\n",
    "with qc.if_test((creg, 0)):\n",
    "    qc.ecr(20, 21)\n",
    " \n",
    "# Define backend with custom basis gates and control flow instructions\n",
    "backend = GenericBackendV2(\n",
    "    num_qubits=25,\n",
    "    basis_gates=[\"ecr\", \"id\", \"rz\", \"sx\", \"x\"],\n",
    "    control_flow=True,\n",
    "  )\n",
    " \n",
    "#Transpile\n",
    "transpiled_qc = transpile(qc, backend)"
   ]
  },
  {
   "cell_type": "code",
   "execution_count": null,
   "id": "2bafd3df-fe00-44c2-8b15-a7ffafc4c413",
   "metadata": {},
   "outputs": [],
   "source": [
    "transpiled_qc.draw()"
   ]
  },
  {
   "cell_type": "markdown",
   "id": "04f99328",
   "metadata": {
    "slideshow": {
     "slide_type": "fragment"
    }
   },
   "source": [
    "Before you can access IBM Quantum services, you need an IBM Quantum account. You can sign up for an account at https://quantum-computing.ibm.com/."
   ]
  },
  {
   "cell_type": "markdown",
   "id": "0d3b73fa",
   "metadata": {
    "slideshow": {
     "slide_type": "subslide"
    }
   },
   "source": [
    "Once you have an account, you can grab your API token"
   ]
  },
  {
   "cell_type": "markdown",
   "id": "1e0c3ade",
   "metadata": {
    "slideshow": {
     "slide_type": "slide"
    }
   },
   "source": [
    "## Overview of Quantum States\n",
    "\n",
    "State-vector notation  is convenient when dealing with states that can always be expressed as a linear combination of basis states, each with an associated probability amplitude. The definition of the state of our qubits cannot always be written down as linear combinations in a given basis, sometimes it must be expressed in terms of ensembles (statistical mixtures) of multiple states (noise), each with an associated probability of occurrence. The adopted formulation is the `density matrix`. \n",
    "In the following we will review this formulation for ***pure state***, **mixed state** and we introduce the concept of **state purity** and ***partial trace***."
   ]
  },
  {
   "cell_type": "markdown",
   "id": "492a6355",
   "metadata": {
    "slideshow": {
     "slide_type": "slide"
    }
   },
   "source": [
    "#### Pure State\n",
    "Pure states are those for which we can precisely define their quantum state at every point in time and the measurement outcome will be probabilistic with no uncertainty on what this quantum state will be.\n",
    "For example, if we initialize the single qubit $|q \\rangle $ in state $ | 0 \\rangle $, and apply a Hadamard gate, we know our final state will be:\n",
    "\n",
    "$$ \n",
    "| q \\rangle = \\frac{1}{\\sqrt{2}} \\left( | 0 \\rangle  + | 1 \\rangle  \\right) = \\frac{1}{\\sqrt{2}} \\begin{bmatrix} 1 \\\\ 1 \\end{bmatrix} = | + \\rangle \n",
    "$$\n",
    "In general, we know that in the conventional state vector notation, an $n$-qubit pure state can be expressed as:\n",
    "\n",
    "$$ | \\psi \\rangle = \\begin{bmatrix} \\alpha_0 \\\\ \\alpha_1 \\\\ \\vdots \\\\ \\alpha_{N-1} \\end{bmatrix}, $$\n",
    "\n",
    "where $ N = 2^{n} $. An alternative way to express this pure quantum state is in the form of a matrix. This can be done by using the density operator representation, which is defined as:\n",
    "\n",
    "$$ \\rho \\equiv  | \\psi \\rangle \\langle \\psi | $$\n",
    "\n",
    "Here, the term $| \\psi \\rangle \\langle \\psi | $ represents the [outer product](../ch-gates/proving-universality.ipynb#outer) of the state $ \\psi $ with itself:\n",
    "\n",
    "\n",
    "$$ \n",
    "\\begin{aligned}\n",
    "& \\rho = \\begin{bmatrix} \\alpha_0 \\\\ \\alpha_1 \\\\ \\vdots \\\\ \\alpha_N \\end{bmatrix} \\begin{bmatrix} \\alpha_0^* & \\alpha_1^* & \\dots & \\alpha_N^* \\end{bmatrix} \n",
    "\\\\\n",
    "\\\\\n",
    "& \\rho = \\begin{bmatrix} |\\alpha_0|^2 & \\alpha_0 \\alpha_1^* & \\dots & \\alpha_0 \\alpha_N^* \\\\ \\alpha_1 \\alpha_0^* & |\\alpha_1|^2 & \\dots & \\alpha_1 \\alpha_N^* \\\\ \\vdots & \\vdots & \\ddots & \\vdots \\\\ \\alpha_N \\alpha_0^* & \\alpha_N \\alpha_1^* & \\dots & |\\alpha_N|^2 \\end{bmatrix}\n",
    "\\end{aligned}\n",
    "$$\n",
    "\n",
    "\n",
    "Let's consider, for example, the following two-qubit, maximally-entangled pure state:\n",
    "\n",
    "$$ | \\psi_{AB} \\rangle = \\frac{1}{\\sqrt{2}} \\left ( | 0 0 \\rangle + | 1 1 \\rangle \\right ) = \\frac{1}{\\sqrt{2}} \\begin{bmatrix} 1 \\\\ 0 \\\\ 0 \\\\ 1 \\end{bmatrix} \n",
    "$$\n",
    "\n",
    "\n",
    "The density matrix representation for this state is then given by:\n",
    "\n",
    "$$ \n",
    "\\begin{aligned}\n",
    "& \\rho_{AB}  = | \\psi_{AB} \\rangle \\langle \\psi_{AB} |\n",
    "\\\\\n",
    "\\\\\n",
    "& \\rho_{AB} = \\left ( \\frac{1}{\\sqrt{2}} \\begin{bmatrix} 1 \\\\ 0 \\\\ 0 \\\\ 1 \\end{bmatrix} \\right ) \\left ( \\frac{1}{\\sqrt{2}} \\begin{bmatrix} 1 & 0 & 0 & 1 \\end{bmatrix} \\right )\n",
    "\\\\\n",
    "\\\\\n",
    "& \\rho_{AB} = \\frac{1}{2} \\begin{bmatrix} 1 & 0 & 0 & 1 \\\\ 0 & 0 & 0 & 0 \\\\ 0 & 0 & 0 & 0 \\\\ 1 & 0 & 0 & 1 \\\\ \\end{bmatrix}\n",
    "\\end{aligned}\n",
    "$$\n",
    "\n",
    "\n",
    "In Qiskit, we can use the ``quantum_info`` module to represent quantum states either in state vector notation, or in the density matrix representation. For convenience, we will import this module as ``qi``:"
   ]
  },
  {
   "cell_type": "code",
   "execution_count": null,
   "id": "7fd02bfa",
   "metadata": {
    "slideshow": {
     "slide_type": "subslide"
    }
   },
   "outputs": [],
   "source": [
    "from qiskit import QuantumCircuit\n",
    "import qiskit.quantum_info as qi"
   ]
  },
  {
   "cell_type": "markdown",
   "id": "f3f3fad4",
   "metadata": {
    "slideshow": {
     "slide_type": "fragment"
    }
   },
   "source": [
    "Let's once again consider the entangled pure state $| \\psi_{AB} \\rangle $. We can prepare this state by applying a Hadamard gate to the first qubit, and an CNOT between the first and second qubits:"
   ]
  },
  {
   "cell_type": "code",
   "execution_count": null,
   "id": "b87dba20",
   "metadata": {
    "slideshow": {
     "slide_type": "fragment"
    }
   },
   "outputs": [],
   "source": [
    "qc_AB = QuantumCircuit(2)\n",
    "qc_AB.h(0)\n",
    "qc_AB.cx(0,1)\n",
    "qc_AB.draw('mpl')"
   ]
  },
  {
   "cell_type": "markdown",
   "id": "f6db78ee",
   "metadata": {
    "slideshow": {
     "slide_type": "fragment"
    }
   },
   "source": [
    "To obtain the state constructed by our ``QuantumCircuit`` in state vector notation, we can make use of the ``Statevector.from_instruction()`` class method from the ``quantum_info`` module as follows:"
   ]
  },
  {
   "cell_type": "code",
   "execution_count": null,
   "id": "64fdf5e7",
   "metadata": {
    "slideshow": {
     "slide_type": "fragment"
    }
   },
   "outputs": [],
   "source": [
    "psi_AB = qi.Statevector.from_instruction(qc_AB)\n",
    "psi_AB.draw('latex', prefix='|\\\\psi_{AB}\\\\rangle = ')"
   ]
  },
  {
   "cell_type": "markdown",
   "id": "5dca4cd7",
   "metadata": {
    "slideshow": {
     "slide_type": "fragment"
    }
   },
   "source": [
    "Similarly, we can use the ``DensityMatrix.from_instruction()`` class method to obtain density matrix representation for this same state:"
   ]
  },
  {
   "cell_type": "code",
   "execution_count": null,
   "id": "a7ecf9c4",
   "metadata": {},
   "outputs": [],
   "source": [
    "rho_AB = qi.DensityMatrix.from_instruction(qc_AB)\n",
    "rho_AB.draw('latex', prefix='\\\\rho_{AB} = ')"
   ]
  },
  {
   "cell_type": "markdown",
   "id": "1a9f2d18",
   "metadata": {
    "slideshow": {
     "slide_type": "fragment"
    }
   },
   "source": [
    "As expected, the result matches our calculation. We can also visualize the density matrix using a cityscape plot of the state:"
   ]
  },
  {
   "cell_type": "code",
   "execution_count": null,
   "id": "511accf8",
   "metadata": {
    "slideshow": {
     "slide_type": "subslide"
    }
   },
   "outputs": [],
   "source": [
    "from qiskit.visualization import plot_state_city\n",
    "plot_state_city(rho_AB.data, title='Density Matrix')"
   ]
  },
  {
   "cell_type": "markdown",
   "id": "d1e129d7",
   "metadata": {
    "slideshow": {
     "slide_type": "fragment"
    }
   },
   "source": [
    "### 1. Exercises  <a id=\"ex1\"></a>\n",
    "Find the corresponding density matrix for the following pure states. Use Qiskit to prepare the states, and verify your results using the ``quantum_info`` module:\n",
    "   \n",
    "1.\t$ \\frac{1}{2}\\left ( |0 0 \\rangle + |0 1 \\rangle + |1 0 \\rangle + |1 1 \\rangle \\right ) $       \n",
    "\n"
   ]
  },
  {
   "cell_type": "markdown",
   "id": "aadf9295",
   "metadata": {
    "slideshow": {
     "slide_type": "fragment"
    }
   },
   "source": [
    "Now, all we have done so far is show a different way to represent quantum states, but there is no apparent advantage in doing so. To understand why the density matrix representation is beneficial, we need to learn about the concept of mixed states."
   ]
  },
  {
   "cell_type": "markdown",
   "id": "e3911f45",
   "metadata": {
    "slideshow": {
     "slide_type": "slide"
    }
   },
   "source": [
    "## 2. Mixed States <a id=\"mixed\"></a>\n",
    "\n",
    "Mixed states are those that consist of statistical ensembles of different quantum states.\n",
    "\n",
    "Consider, once again, the two-qubit entangled state:\n",
    "\n",
    "$$ | \\psi_{AB} \\rangle = \\frac{1}{\\sqrt{2}} \\left ( | 0_A 0_B \\rangle + | 1_A 1_B \\rangle \\right ) $$\n",
    "\n",
    "Here we have explicitly used the subscripts $A$ and $B$ to label the qubits associated with registers $q_1$ and $q_0$, respectively. Now, let's assume that right after preparing our state $| \\psi_{AB} \\rangle $ we perform a measurement on register $q_1$.\n",
    "\n",
    "\n",
    "We know that after a measurement, $\\psi_B$ will be in state $| 0_B \\rangle $ with probability $1/2$, or in state $| 1_B \\rangle $ with probability $1/2$; however, $\\psi_B$ is **not** in a linear superposition of $| 0_B \\rangle $ and $| 1_B \\rangle $. In other words, $\\psi_B$ **cannot** be expressed as a state vector of the form $1/\\sqrt{2} \\left (|0_B \\rangle + | 1_B \\rangle \\right)$. Instead, we have to use a different notation to write down that $\\psi_B$ is rather an ensemble (not a quantum superposition) of the states $| 0_B \\rangle $ and $| 1_B \\rangle $, and whose outcome depends on what we measure on register $q_1$. \n",
    "\n",
    "We then call $\\psi_B$ a mixed state, which can be represented as an ensemble of states:\n",
    "\n",
    "$$\n",
    "\\left \\{| \\psi_{B_0} \\rangle , | \\psi_{B_1} \\rangle \\right \\} = \\left \\{ | 0_B \\rangle , | 1_B \\rangle \\right \\},\n",
    "$$ \n",
    "\n",
    "each with an associated probability of occurrence:\n",
    "\n",
    "$$ \\left \\{ p_0, p_1 \\right \\} = \\left \\{ 1/2, 1/2 \\right \\} $$\n",
    "\n",
    "Although this way of expressing $\\psi_B$ (or any general mixed state) is perfectly valid, it turns out to be somewhat inconvenient. Since a mixed state can consist of a myriad of pure states, it can be difficult to track how the whole ensemble evolves when, for example, gates are applied to it. It is here that we turn to the density matrix representation.\n",
    "\n",
    "A mixed state, consisting of several possible outcome pure states $|\\psi_j \\rangle$ , each with probability of occurrence $p_j$, is defined as a density matrix of the form:\n",
    "\n",
    "$$ \\rho \\equiv \\sum_{j} p_j |\\psi_j \\rangle \\langle \\psi_j | $$\n",
    "\n",
    "It is easy to see that this general definition of the density matrix also holds for pure states, for which we will only have one $ |\\psi_j \\rangle $ term with $p_j = 1$."
   ]
  },
  {
   "cell_type": "markdown",
   "id": "9d12270f",
   "metadata": {
    "slideshow": {
     "slide_type": "subslide"
    }
   },
   "source": [
    "### State Purity <a id=\"trace_sqr\"></a>\n",
    "\n",
    "A very useful property of the density matrix is that when taking the trace $\\text{Tr}$ of its square $\\rho^{2}$, we obtain a scalar value $\\gamma$ that is good measure of the purity of the state the matrix represents. For normalized states, this value is always less than or equal to 1, with the equality occurring for the case of a pure state:\n",
    "\n",
    "$$ \\gamma \\equiv \\text{Tr}(\\rho^{2}) \\leq 1 $$\n",
    "\n",
    "$$ \\gamma \\equiv \\text{Tr}(\\rho^{2}) = 1 \\; \\text{if pure} $$\n",
    "\n",
    "In Qiskit, we can easily extract the purity of a density matrix by using the `purity()` class method. For example, for the pure state $| + \\rangle$, we should expect to see a purity of 1:"
   ]
  },
  {
   "cell_type": "code",
   "execution_count": null,
   "id": "2fda7637",
   "metadata": {
    "slideshow": {
     "slide_type": "fragment"
    }
   },
   "outputs": [],
   "source": [
    "import numpy as np\n",
    "rho_p = qi.DensityMatrix.from_label('+')\n",
    "display(rho_p.draw('latex', prefix='\\\\rho_p = '))\n",
    "gamma_p = rho_p.purity()\n",
    "print(\"State purity: \", np.round(np.real(gamma_p),3))"
   ]
  },
  {
   "cell_type": "markdown",
   "id": "255fc213",
   "metadata": {
    "slideshow": {
     "slide_type": "fragment"
    }
   },
   "source": [
    "And, for a mixed state, like $\\rho_m = \\frac{1}{2} | 0 \\rangle \\langle 0 | + \\frac{1}{2} | 1 \\rangle \\langle 1 | $, we expect a purity of less than 1:"
   ]
  },
  {
   "cell_type": "code",
   "execution_count": null,
   "id": "4ea3d0f0",
   "metadata": {
    "slideshow": {
     "slide_type": "fragment"
    }
   },
   "outputs": [],
   "source": [
    "rho_m = 1/2*(qi.DensityMatrix.from_label('0') + qi.DensityMatrix.from_label('1'))\n",
    "display(rho_m.draw('latex', prefix='\\\\rho_m = '))\n",
    "gamma_m = rho_m.purity()\n",
    "print(\"State purity: \", np.round(np.real(gamma_m),3))"
   ]
  },
  {
   "cell_type": "markdown",
   "id": "5dd47307",
   "metadata": {
    "slideshow": {
     "slide_type": "fragment"
    }
   },
   "source": [
    "***NB*** One of the drawbacks of representing the density matrices in terms of ensembles of basis states, is that their outcome is not unique. Understanding that the same density matrix can represent many different ensembles of quantum states is important to avoid drawing conclusions about a particular system simply based on its density matrix representation alone. "
   ]
  },
  {
   "cell_type": "markdown",
   "id": "e557d501",
   "metadata": {
    "slideshow": {
     "slide_type": "slide"
    }
   },
   "source": [
    "### The Reduced Density Matrix\n",
    "When working with the density matrix notation on composite systems, we can extract the state of each subsystem, even if they are entangled. This is done in the form of what is known as the reduced density matrix.\n",
    "\n",
    "Consider a quantum system composed of subsystems $A$ and $B$, and fully described by the density matrix $\\rho_{AB}$. The reduced density matrix of subsystem $A$ is then given by:\n",
    "\n",
    "$$ \\rho_{A} = \\text{Tr}_B(\\rho_{AB}), $$\n",
    "\n",
    "\n",
    "Here, $\\text{Tr}_B$ is an operation known as the partial trace, which is defined as: \n",
    "\n",
    "$$\n",
    "\\text{Tr}_B \\left (| \\xi_u \\rangle \\langle \\xi_v | \\otimes | \\chi_u \\rangle \\langle \\chi_v | \\right ) \\equiv | \\xi_u \\rangle \\langle \\xi_v | \\text{ Tr} \\left ( | \\chi_u \\rangle \\langle \\chi_v | \\right )\n",
    "$$\n",
    "\n",
    "$| \\xi_u \\rangle $ and $| \\xi_v \\rangle $ are arbitrary states in the subspace of $A$, and $| \\chi_u \\rangle $ and $| \\chi_v \\rangle $ arbitrary states in the subspace of $B$. $\\text{Tr}$ is the standard trace operation, which for two arbitrary states $\\text{Tr} \\left ( | \\chi_u \\rangle \\langle \\chi_v | \\right ) = \\langle \\chi_v |\\chi_u \\rangle $. Similarly, we can calculate the reduced density matrix of subsystem $B$ using the partial trace over $A$.\n",
    "\n",
    "As an example, let's reconsider the pure entangled state:\n",
    "\n",
    "$$ | \\psi_{AB} \\rangle = \\frac{1}{\\sqrt{2}} \\left ( | 0_A 0_B \\rangle + | 1_A 1_B \\rangle \\right ) $$\n",
    "\n",
    "\n"
   ]
  },
  {
   "cell_type": "markdown",
   "id": "396ea486",
   "metadata": {
    "slideshow": {
     "slide_type": "subslide"
    }
   },
   "source": [
    "This system is then composed of single-qubit subsystem $A$ with basis vectors $ \\left \\{ |\\xi_1 \\rangle, |\\xi_2 \\rangle \\right \\} = \\{ | 0_A \\rangle, | 1_A \\rangle \\}$, and single-qubit subsystem $B$ with basis vectors $ \\left \\{ |\\chi_1 \\rangle, |\\chi_2 \\rangle \\right \\} = \\{ | 0_B \\rangle, | 1_B \\rangle \\}$. We know that this system is not separable (i.e., $| \\chi_{AB} \\rangle \\neq |\\chi_{A}\\rangle \\otimes |\\chi_{B}\\rangle$); however, by using the reduced density matrix, we can find a full description for subsystems $A$ and $B$ as follows.\n",
    "\n",
    "The density matrix of our state $| \\psi_{AB} \\rangle$ can be expressed in terms of outer products of the basis vectors as:\n",
    "\n",
    "$$\n",
    "\\rho_{AB} = | \\psi_{AB} \\rangle \\langle \\psi_{AB} | =  \\frac{1}{2} \\left [ | 0_A 0_B \\rangle \\langle 0_A 0_B | + | 0_A 0_B \\rangle \\langle 1_A 1_B | + | 1_A 1_B \\rangle \\langle 0_A 0_B | + | 1_A 1_B \\rangle \\langle 1_A 1_B | \\right ]\n",
    "$$\n",
    "\n",
    "\n",
    "Now, to calculate the reduced density matrix for, let's say, subsystem $B$, we have:\n",
    "\n",
    "$$\n",
    "\\begin{aligned}\n",
    "\\rho_{B} & = \\text{Tr}_A(\\rho_{AB})\n",
    "\\\\\n",
    "\\\\\n",
    "& = \\frac{1}{2}\\left [ \\text{Tr}_A(| 0_A 0_B \\rangle \\langle 0_A 0_B |) + \\text{Tr}_A(| 0_A 0_B \\rangle \\langle 1_A 1_B |) + \\text{Tr}_A(| 1_A 1_B \\rangle \\langle 0_A 0_B |) + \\text{Tr}_A(| 1_A 1_B \\rangle \\langle 1_A 1_B |) \\right ]\n",
    "\\\\\n",
    "\\\\\n",
    "& = \\frac{1}{2}\\left [ \\text{Tr}(| 0_A \\rangle \\langle 0_A |)| 0_B \\rangle \\langle 0_B | + \\text{Tr}(| 0_A \\rangle \\langle 1_A |)| 0_B \\rangle \\langle 1_B | + \\text{Tr}(| 1_A \\rangle \\langle 0_A |) | 1_B \\rangle \\langle 0_B | + \\text{Tr}(| 1_A \\rangle \\langle 1_A |) | 1_B \\rangle \\langle 1_B | \\right ]\n",
    "\\\\\n",
    "\\\\\n",
    "& = \\frac{1}{2}\\left [ \\langle 0_A | 0_A \\rangle | 0_B \\rangle \\langle 0_B | + \\langle 1_A | 0_A \\rangle | 0_B \\rangle \\langle 1_B | + \\langle 0_A | 1_A \\rangle | 1_B \\rangle \\langle 0_B | + \\langle 1_A | 1_A \\rangle | 1_B \\rangle \\langle 1_B | \\right ]\n",
    "\\\\\n",
    "\\\\\n",
    "& = \\frac{1}{2}\\left [ | 0_B \\rangle \\langle 0_B | + | 1_B \\rangle \\langle 1_B | \\right ]\n",
    "\\\\\n",
    "\\\\\n",
    "&= \\frac{1}{2} \\begin{bmatrix} 1 & 0 \\\\ 0 & 1 \\end{bmatrix} \n",
    "\\end{aligned}\n",
    "$$\n",
    "\n"
   ]
  },
  {
   "cell_type": "markdown",
   "id": "b01c8d90",
   "metadata": {
    "slideshow": {
     "slide_type": "subslide"
    }
   },
   "source": [
    "At first glance, this result might seem rather strange. We started with the pure entangled state $|\\psi_{AB} \\rangle $, and  calculated that the state of one of its parts (subsystem $B$) is the mixed state $\\rho_{B}$. However, going back to the first example given above, we see that the result from calculating the reduced density matrix for $B$ is equivalent to the representation we obtained for $\\psi_B$, when measurements were taken over qubit $A$. We can then conclude that the reduced density matrix $\\rho_{B}$ is a way to describe the statistical outcomes of subsystem $B$, when the measurement outcomes of subsystem $A$ are averaged out. This is in fact what ”tracing out” subsystem $A$ means.\n",
    "\n",
    "It is worth mentioning that so far we have described the concept of partial trace for a bipartite (two-part) system, but this can be generalized for multi-part systems.\n",
    "\n",
    "In Qiskit, we can easily obtain the reduced density matrix of a system by using the ``partial_trace()`` function and passing the density matrix of the composite system, and a list with the subsystems to trace over:\n",
    "\n"
   ]
  },
  {
   "cell_type": "code",
   "execution_count": null,
   "id": "15ee5dba",
   "metadata": {
    "slideshow": {
     "slide_type": "fragment"
    }
   },
   "outputs": [],
   "source": [
    "rho_B = qi.partial_trace(rho_AB,[0])\n",
    "rho_A = qi.partial_trace(rho_AB,[1])\n",
    "\n",
    "display(rho_B.draw('latex', prefix=\" \\\\rho_{B} = \"),\n",
    "        rho_A.draw('latex', prefix=\" \\\\rho_{A} = \"))"
   ]
  },
  {
   "cell_type": "code",
   "execution_count": null,
   "id": "dc8c1835-7275-4fea-943a-46da9fa2ab6a",
   "metadata": {},
   "outputs": [],
   "source": [
    "I = qi.mutual_information(rho_m, base=2)\n",
    "I"
   ]
  },
  {
   "cell_type": "code",
   "execution_count": null,
   "id": "e6e108f4-b7c3-4b4b-bffd-e68b5387797d",
   "metadata": {},
   "outputs": [],
   "source": [
    "I = qi.mutual_information(psi_AB, base=2)\n",
    "I"
   ]
  },
  {
   "cell_type": "markdown",
   "id": "bf0d7a19-e671-4a94-bfdb-e28e258796bf",
   "metadata": {},
   "source": [
    "see here for all methods https://docs.quantum.ibm.com/api/qiskit/0.43/qiskit.quantum_info.mutual_information"
   ]
  },
  {
   "cell_type": "markdown",
   "id": "2b23558d",
   "metadata": {
    "slideshow": {
     "slide_type": "fragment"
    }
   },
   "source": [
    "### Exercises  <a id=\"ex4\"></a>\n",
    "Calculate the reduced density matrices for following:\n",
    "\n",
    "The mixed state: $ \\rho_{mr} = \\frac{1}{4} | \\Phi^+ \\rangle \\langle \\Phi^+ | + \\frac{3}{4} | \\Phi^- \\rangle \\langle \\Phi^- |$, where $| \\Phi^+ \\rangle$ and $| \\Phi^- \\rangle$ are the Bell states:\n",
    "\n",
    "$| \\Phi^+ \\rangle = \\frac{1}{\\sqrt{2}} \\left( |00 \\rangle + |11 \\rangle \\right ) $\n",
    "\n",
    "$| \\Phi^- \\rangle = \\frac{1}{\\sqrt{2}} \\left( |00 \\rangle - |11 \\rangle \\right ) $\n",
    "    \n",
    "    \n",
    "    and for the following quantum circuit"
   ]
  },
  {
   "cell_type": "code",
   "execution_count": null,
   "id": "8054fdee",
   "metadata": {
    "slideshow": {
     "slide_type": "fragment"
    }
   },
   "outputs": [],
   "source": [
    "qc_CD = QuantumCircuit(2)\n",
    "qc_CD.ry(np.pi/3,0)\n",
    "qc_CD.h(1)\n",
    "qc_CD.cx(0,1)\n",
    "qc_CD.cx(1,0)\n",
    "qc_CD.draw(\"mpl\")"
   ]
  }
 ],
 "metadata": {
  "celltoolbar": "Slideshow",
  "kernelspec": {
   "display_name": "Python 3 (ipykernel)",
   "language": "python",
   "name": "python3"
  },
  "language_info": {
   "codemirror_mode": {
    "name": "ipython",
    "version": 3
   },
   "file_extension": ".py",
   "mimetype": "text/x-python",
   "name": "python",
   "nbconvert_exporter": "python",
   "pygments_lexer": "ipython3",
   "version": "3.9.19"
  }
 },
 "nbformat": 4,
 "nbformat_minor": 5
}
