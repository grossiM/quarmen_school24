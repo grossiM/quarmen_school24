{
 "cells": [
  {
   "cell_type": "markdown",
   "id": "c8bf3f5f-1218-4890-8885-255d36cfdb0a",
   "metadata": {},
   "source": [
    "# Quantum Real Time Evolution using Trotterization\n",
    "\n",
    "This notebook presentation is part of my lecture material for the QUARMEN master (QUAntum Research Master Education Network): a two-year international master’s programme in physics, specialized in Quantum Science and Technology. It aims at training students in key concepts and technologies for quantum devices and information. \n",
    "\n",
    "This lecture contains a general introduction to parameterized quantum circuits, calculation of gradients and the Pennylane software platform.\n",
    "\n",
    "**Michele Grossi**, Coordinator of Quantum Computing and Algorithm Competence Center @ CERN \\\n",
    "Last updated: 03 apr 24"
   ]
  },
  {
   "attachments": {},
   "cell_type": "markdown",
   "id": "f52a038f-f875-48f2-8345-039933a1fa69",
   "metadata": {},
   "source": [
    "As a real time evolution technique, the Trotterization or Trotterized Real Time Evolution (RTE) consists in the successive application of a quantum gate, assumed to approximate the time evolution of a system for a time slice [1]. Following from the Schrödinger equation, the time evolution of a system initially in the state $\\vert\\psi(0)\\rangle$ takes the form:\n",
    "\n",
    "$$\n",
    "\\vert \\psi(t) \\rangle = e^{-i H t} \\vert \\psi(0) \\rangle \\text{,}\n",
    "$$\n",
    "\n",
    "where $H$ is the time-independent Hamiltonian under which the system is submitted. We consider a Hamiltonian that can be written as a weighted sum of Pauli terms $H=\\sum_j a_j H_j$, with $h_j$ representing a tensor product of Pauli terms acting on $n$ qubits. Thus, the sequence of gates that approximate a single evolution step is found under the assumption that the product of matrix exponentials is a good approximation for the sum of matrix exponentials:\n",
    "\n",
    "$$\n",
    "\\vert \\psi(t) \\rangle \\approx \\left(\\prod_j e^{-i a_j H_j t/r} \\right)^r \\vert\\psi(0) \\rangle \\text{,}\n",
    "$$\n",
    "\n",
    "where $t/r$ is the time slice (evolution step) that we are choosing. As a result, a gate to be applied $r$ times is created. A smaller timestep leads to a more accurate approximation. However, this also leads to deeper circuits which, in practice, leads to more error accumulation, becoming a critical aspect especially on NISQ devices. For the purposes of this tutorial, all simulations are Statevector simulator, which doesn't include any shot or hardware noise.\n",
    "\n",
    "In this tutorial, we will implement real time evolutions using the `TrotterQRTE` class. To illustrate this, we will study the time evolution of the [Ising model](https://en.wikipedia.org/wiki/Ising_model) on linear lattices of $L=2$ and $L=6$ sites. These lattices consist of an array of spins $\\sigma_i$ that interact only with their nearest neighbors. These spins can have two orientations: $\\uparrow$ and $\\downarrow$, which correspond to a magnetization of $+1$ and $-1$ respectively.\n",
    "\n",
    "$$\n",
    "H = - J \\sum_{i=0}^{L-2} \\sigma_i \\sigma_{i+1} - h \\sum_{i=0}^{L-1} \\sigma_i  \\text{,}\n",
    "$$\n",
    "\n",
    "where $J$ describes the interaction energy, and $h$ the magnitude of an external field. Let us write this expression using Pauli matrices, and considering that the external field has an angle $\\alpha$ with respect to the transversal direction,\n",
    "\n",
    "$$\n",
    "H = -J \\sum_{i=0}^{L-2} Z_i Z_{i+1} -h \\sum_{i=0}^{L-1} (\\sin\\alpha Z_i + \\cos\\alpha X_i) \\text{.}\n",
    "$$\n",
    "\n",
    "In the computational basis, the system will be encoded as follows:\n",
    "\n",
    "| Quantum state            | Spin representation                        |\n",
    "|:------------------------:|:------------------------------------------:|\n",
    "| $\\lvert 0 0 0 0 \\rangle$ | $\\uparrow\\uparrow\\uparrow\\uparrow$         |\n",
    "| $\\lvert 1 0 0 0 \\rangle$ | $\\downarrow\\uparrow\\uparrow\\uparrow$       |\n",
    "| $\\ldots$                 | $\\ldots$                                   |\n",
    "| $\\lvert 1 1 1 1 \\rangle$ | $\\downarrow\\downarrow\\downarrow\\downarrow$ |\n",
    "\n",
    "First, we will create a function that takes in the system parameters $L$, $J$, $h$ and $\\alpha$, and returns our Hamiltonian as a `SparsePauliOp`. A [SparsePauliOp](https://qiskit.org/documentation/stubs/qiskit.quantum_info.SparsePauliOp.html) is a sparse representation of an operator in terms of weighted [Pauli](https://qiskit.org/documentation/stubs/qiskit.quantum_info.Pauli.html) terms."
   ]
  },
  {
   "cell_type": "code",
   "execution_count": null,
   "id": "f8978fad-2734-4d62-8de3-8acfdf6549cc",
   "metadata": {},
   "outputs": [],
   "source": [
    "from qiskit.quantum_info import SparsePauliOp\n",
    "from math import sin, cos\n",
    "\n",
    "\n",
    "def get_hamiltonian(L, J, h, alpha=0):\n",
    "\n",
    "    # List of Hamiltonian terms as 3-tuples containing\n",
    "    # (1) the Pauli string,\n",
    "    # (2) the qubit indices corresponding to the Pauli string,\n",
    "    # (3) the coefficient.\n",
    "    ZZ_tuples = [(\"ZZ\", [i, i + 1], -J) for i in range(0, L - 1)]\n",
    "    Z_tuples = [(\"Z\", [i], -h * sin(alpha)) for i in range(0, L)]\n",
    "    X_tuples = [(\"X\", [i], -h * cos(alpha)) for i in range(0, L)]\n",
    "\n",
    "    # We create the Hamiltonian as a SparsePauliOp, via the method\n",
    "    # `from_sparse_list`, and multiply by the interaction term.\n",
    "    hamiltonian = SparsePauliOp.from_sparse_list([*ZZ_tuples, *Z_tuples, *X_tuples], num_qubits=L)\n",
    "    return hamiltonian.simplify()"
   ]
  },
  {
   "cell_type": "markdown",
   "id": "c2cc25ca-a774-4b83-b1ad-28265caa06c8",
   "metadata": {},
   "source": [
    "Let us get started, and create a Hamiltonian as an operator for $L=2$, and a choice of $J=0.2$, $h=1$ and $\\alpha=\\pi/8$:"
   ]
  },
  {
   "cell_type": "code",
   "execution_count": null,
   "id": "8c8377c1-85e7-43da-ba29-4291ff58b66a",
   "metadata": {},
   "outputs": [],
   "source": [
    "from math import pi\n",
    "\n",
    "H = get_hamiltonian(L=2, J=0.2, h=1.0, alpha=pi / 8)\n",
    "H"
   ]
  },
  {
   "attachments": {},
   "cell_type": "markdown",
   "id": "4fa41ff7",
   "metadata": {},
   "source": [
    "Let us create an instance of `TimeEvolutionProblem`. Conceptually, it contains all the information relevant on the physical problem. In our case, we will pass it the our Hamiltonian, an initial state, a final time. As initial state, we will take a spin up and a spin down."
   ]
  },
  {
   "cell_type": "code",
   "execution_count": null,
   "id": "a2b6ee1e-b707-433b-ba01-adbf3a09132d",
   "metadata": {},
   "outputs": [],
   "source": [
    "!pip install qiskit-algorithms"
   ]
  },
  {
   "cell_type": "code",
   "execution_count": null,
   "id": "e9730206",
   "metadata": {},
   "outputs": [],
   "source": [
    "from qiskit.quantum_info import Statevector\n",
    "from qiskit_algorithms import TimeEvolutionProblem\n",
    "\n",
    "final_time = 1.6\n",
    "\n",
    "# First spin up, second spin down\n",
    "# (remember that the labels are interpreted from right to left)\n",
    "initial_state = Statevector.from_label(\"10\")\n",
    "\n",
    "problem = TimeEvolutionProblem(H, initial_state=initial_state, time=final_time)"
   ]
  },
  {
   "attachments": {},
   "cell_type": "markdown",
   "id": "b1127eec",
   "metadata": {},
   "source": [
    "We can now create an instance of `TrotterQRTE`. Conceptually, it contains the information relevant to solve a physical problem, which does by means of the method `evolve`. See https://qiskit.org/ecosystem/algorithms/stubs/qiskit_algorithms.TrotterQRTE.html for additional info and https://github.com/Qiskit/qiskit/blob/main/qiskit/circuit/library/pauli_evolution.py for the qiskit implementation of Trotter (this was done manually in previous editions :-) )"
   ]
  },
  {
   "cell_type": "code",
   "execution_count": null,
   "id": "46a9da20-f067-4cc0-9ddf-15a9652e9224",
   "metadata": {},
   "outputs": [],
   "source": [
    "from qiskit_algorithms import TrotterQRTE\n",
    "\n",
    "trotter = TrotterQRTE()\n",
    "result = trotter.evolve(problem)"
   ]
  },
  {
   "cell_type": "markdown",
   "id": "b55c625e-3144-40f2-9eea-2b8cfad51381",
   "metadata": {},
   "source": [
    "Our evolved state is in the result's attribute `evolved_state`, which is a `QuantumCircuit`,"
   ]
  },
  {
   "cell_type": "code",
   "execution_count": null,
   "id": "4759ec1b-2444-4cf7-8eef-e2e1f8bb332f",
   "metadata": {},
   "outputs": [],
   "source": [
    "result.evolved_state.draw(\"mpl\")"
   ]
  },
  {
   "cell_type": "markdown",
   "id": "6b207d17-7633-40b6-b70e-3788966c4fb8",
   "metadata": {},
   "source": [
    "By sequentially decomposing the circuit, we can show it in terms of Qiskit's [Circuit Library](https://qiskit.org/documentation/apidoc/circuit_library.html) standard gates."
   ]
  },
  {
   "cell_type": "code",
   "execution_count": null,
   "id": "a434781a-67be-41e9-b0df-c3c7e17d39b8",
   "metadata": {},
   "outputs": [],
   "source": [
    "result.evolved_state.decompose(reps=2).decompose(\"disentangler_dg\").decompose(\n",
    "    \"multiplex1_reverse_dg\"\n",
    ").draw(\"mpl\")"
   ]
  },
  {
   "cell_type": "markdown",
   "id": "a628e73b-b96e-44e1-8a25-4f43bf2ccb27",
   "metadata": {},
   "source": [
    "The evolved state, like all `QuantumCircuit`s, can be turned into a `Statevector`."
   ]
  },
  {
   "cell_type": "code",
   "execution_count": null,
   "id": "e338fd96-ff0d-4473-8ac1-3e8edb472f61",
   "metadata": {},
   "outputs": [],
   "source": [
    "statevector = Statevector(result.evolved_state)\n",
    "print(statevector)"
   ]
  },
  {
   "cell_type": "markdown",
   "id": "392f6fa4-64a6-4d9a-b845-7e902521b988",
   "metadata": {},
   "source": [
    "Let us find out the effect of the field direction after a certain a certain time $t=1.6$. Note that the units of time are the inverse of the units of the Hamiltonian. For the purposes of this tutorial we leave all units dimensionless."
   ]
  },
  {
   "cell_type": "code",
   "execution_count": null,
   "id": "9adc5a51-e976-4b9b-9d19-8b3002cef4e1",
   "metadata": {},
   "outputs": [],
   "source": [
    "import numpy as np\n",
    "import matplotlib.pyplot as plt\n",
    "\n",
    "bar_width = 0.1\n",
    "# We prepare an initial state ↑↓ (01).\n",
    "# Note that Statevector and SparsePauliOp interpret the qubits from right to left\n",
    "initial_state = Statevector.from_label(\"10\")\n",
    "trotter = TrotterQRTE()\n",
    "final_time = 1.6\n",
    "eps = 1e-5\n",
    "\n",
    "# We create the list of angles in radians, with a small epsilon\n",
    "# the exactly longitudinal field, which would present no dynamics at all\n",
    "alphas = np.linspace(-np.pi / 2 + eps, np.pi / 2 - eps, 5)\n",
    "\n",
    "for i, alpha in enumerate(alphas):\n",
    "    H_alpha = get_hamiltonian(L=2, J=0.2, h=1.0, alpha=alpha)\n",
    "    problem = TimeEvolutionProblem(H_alpha, initial_state=initial_state, time=1.6)\n",
    "    result = trotter.evolve(problem)\n",
    "    evolved_state = Statevector(result.evolved_state)\n",
    "    # Dictionary of probabilities\n",
    "    amplitudes_dict = evolved_state.probabilities_dict()\n",
    "    labels = list(amplitudes_dict.keys())\n",
    "    values = list(amplitudes_dict.values())\n",
    "    # Convert angle to degrees\n",
    "    alpha_str = f\"$\\\\alpha={int(np.round(alpha * 180 / pi))}^\\\\circ$\"\n",
    "    plt.bar(np.arange(4) + i * bar_width, values, bar_width, label=alpha_str, alpha=0.7)\n",
    "\n",
    "plt.xticks(np.arange(4) + 2 * bar_width, labels)\n",
    "plt.xlabel(\"Measurement\")\n",
    "plt.ylabel(\"Probability\")\n",
    "plt.suptitle(\n",
    "    f\"Measurement probabilities at $t={final_time}$, for various field angles $\\\\alpha$\\n\"\n",
    "    f\"Initial state: 10, Linear lattice of size $L=2$\"\n",
    ")\n",
    "plt.legend()"
   ]
  },
  {
   "cell_type": "markdown",
   "id": "7495e1d1-b5d5-402f-9854-10ea06a20eb3",
   "metadata": {},
   "source": [
    "We have prepared a system initially with a sequence of spins $\\uparrow\\downarrow$, which corresponds to $\\vert\\psi(0)\\rangle = \\vert01\\rangle$. \n",
    "\n",
    "After letting it evolve for $t=1.6$ under a transversal field ($\\alpha=0^\\circ$), we are almost guaranteed to measure $\\downarrow\\uparrow$, i.e. have a spin swap. (Note that the labels are interpreted from right to left). If the field is longitudinal ($\\alpha=\\pm90^\\circ$), we will have no evolution, therefore we will measure the system as it was initially prepared, $\\uparrow\\downarrow$. \n",
    "\n",
    "With intermediate angles, at $\\alpha=\\pm45^\\circ$, we will be able to measure all combinations will different probabilities, being a spin swap the most likely with a probability of 67%."
   ]
  },
  {
   "cell_type": "markdown",
   "id": "916b2d7d-508a-4943-9a0d-7c56a3a1e32b",
   "metadata": {},
   "source": [
    "### Auxiliary operators"
   ]
  },
  {
   "cell_type": "markdown",
   "id": "35842d79-e23b-4a09-bfce-7e01984ec8f6",
   "metadata": {},
   "source": [
    "Let us look into another feature of `TrotterQRTE`. We will now explore its ability to perform time evolutions of a system, while keeping track of some observables. The system that we now consider has a size of $L=6$."
   ]
  },
  {
   "cell_type": "code",
   "execution_count": null,
   "id": "f771ffe3-66a6-425e-ad61-1a483888c67a",
   "metadata": {},
   "outputs": [],
   "source": [
    "from math import pi\n",
    "\n",
    "L = 6\n",
    "H = get_hamiltonian(L=L, J=0.2, h=1.2, alpha=pi / 8)"
   ]
  },
  {
   "cell_type": "markdown",
   "id": "e22d0f96-cb0b-479f-b2ff-2b988d0bcf48",
   "metadata": {},
   "source": [
    "The `TrotterQRTE` instance now will be created with a `num_timesteps` argument, and an `Estimator` primitive. The Qiskit's `Estimator` primitive estimates expectation values of observables, $\\langle\\psi\\vert\\hat{O}\\vert\\psi\\rangle$."
   ]
  },
  {
   "cell_type": "code",
   "execution_count": null,
   "id": "5fa5bbd8-21a7-41ba-b79b-9b63717dc15d",
   "metadata": {},
   "outputs": [],
   "source": [
    "from qiskit_algorithms import TrotterQRTE\n",
    "from qiskit.primitives import Estimator\n",
    "\n",
    "num_timesteps = 60\n",
    "trotter = TrotterQRTE(num_timesteps=num_timesteps, estimator=Estimator())"
   ]
  },
  {
   "cell_type": "markdown",
   "id": "8cc5320f-1ce0-4321-8cf7-4b3131b038de",
   "metadata": {},
   "source": [
    "Let us define a *magnetization operator* $\\sum_i Z_i$, and a *mean spin correlation operator* $\\sum_i Z_i Z_{i+1} / (L - 1)$."
   ]
  },
  {
   "cell_type": "code",
   "execution_count": null,
   "id": "196364a5-3bca-454d-ab50-38f74d3a305d",
   "metadata": {},
   "outputs": [],
   "source": [
    "magnetization_op = SparsePauliOp.from_sparse_list(\n",
    "    [(\"Z\", [i], 1.0) for i in range(0, L)], num_qubits=L\n",
    ")\n",
    "correlation_op = SparsePauliOp.from_sparse_list(\n",
    "    [(\"ZZ\", [i, i + 1], 1.0) for i in range(0, L - 1)], num_qubits=L\n",
    ") / (L - 1)"
   ]
  },
  {
   "cell_type": "markdown",
   "id": "129f289e-c694-4eb1-8842-1248578a731f",
   "metadata": {},
   "source": [
    "Our new initial state will have the two middle spins facing down, and the `TimeEvolutionProblem` will incorporate some observables that will be kept track of:\n",
    "1. the energy, i.e. the expectation value of the Hamiltonian, $\\langle H\\rangle$\n",
    "2. the magnetization, $\\langle \\sum_i Z_i \\rangle$\n",
    "3. the mean spin correlation, $\\langle\\sum_i Z_i Z_{i+1}\\rangle/(L-1)$"
   ]
  },
  {
   "cell_type": "code",
   "execution_count": null,
   "id": "147f30af-ebd3-41ef-88fc-256d01e1ff3d",
   "metadata": {},
   "outputs": [],
   "source": [
    "final_time = 30.0\n",
    "initial_state = Statevector.from_label(\"001100\")\n",
    "problem = TimeEvolutionProblem(\n",
    "    H,\n",
    "    initial_state=initial_state,\n",
    "    time=final_time,\n",
    "    aux_operators=[H, magnetization_op, correlation_op],\n",
    ")"
   ]
  },
  {
   "cell_type": "markdown",
   "id": "70a62b59-658b-4964-93e5-eaea21d6958e",
   "metadata": {},
   "source": [
    "Again, we let our `TrotterQRTE` evolve our newly created problem instance."
   ]
  },
  {
   "cell_type": "code",
   "execution_count": null,
   "id": "43e41a25-881b-4765-b933-0de40e57e139",
   "metadata": {},
   "outputs": [],
   "source": [
    "result = trotter.evolve(problem)"
   ]
  },
  {
   "cell_type": "markdown",
   "id": "b1dfabb2-76a7-4b12-b125-018af2655e96",
   "metadata": {},
   "source": [
    "The new result also features an `observables` attribute. Let's extract the observables stored in it."
   ]
  },
  {
   "cell_type": "code",
   "execution_count": null,
   "id": "25d7df68-89a1-4d63-92ad-e80def7b5330",
   "metadata": {},
   "outputs": [],
   "source": [
    "import numpy as np\n",
    "\n",
    "observables = np.array(np.array(result.observables)[:, :, 0])\n",
    "observables.shape"
   ]
  },
  {
   "cell_type": "code",
   "execution_count": null,
   "id": "b23392e1-6c14-4179-aeb6-392c829f5282",
   "metadata": {},
   "outputs": [],
   "source": [
    "import matplotlib.pyplot as plt\n",
    "\n",
    "fig, axes = plt.subplots(3, sharex=True)\n",
    "times = np.linspace(0, final_time, num_timesteps + 1)  # includes initial state\n",
    "axes[0].plot(\n",
    "    times, observables[:, 0], label=\"First order\", marker=\"x\", c=\"darkmagenta\", ls=\"-\", lw=0.8\n",
    ")\n",
    "axes[1].plot(\n",
    "    times, observables[:, 1], label=\"First order\", marker=\"x\", c=\"darkmagenta\", ls=\"-\", lw=0.8\n",
    ")\n",
    "axes[2].plot(\n",
    "    times, observables[:, 2], label=\"First order\", marker=\"x\", c=\"darkmagenta\", ls=\"-\", lw=0.8\n",
    ")\n",
    "axes[0].set_ylabel(\"Energy\")\n",
    "axes[1].set_ylabel(\"Magnetization\")\n",
    "axes[2].set_ylabel(\"Mean spin correlation\")\n",
    "axes[2].set_xlabel(\"Time\")\n",
    "fig.suptitle(\"Observable evolution\")"
   ]
  },
  {
   "cell_type": "markdown",
   "id": "063a380f-be6e-4664-849b-55dff23153b6",
   "metadata": {},
   "source": [
    "Let us verify these results by comparing these expected values using Trotter evolution with the exact ones. To that end, we evaluate directly the expression discussed in the introduction,\n",
    "\n",
    "$$\n",
    "\\vert \\psi(t) \\rangle = e^{-i H t} \\vert \\psi(0) \\rangle \\text{,}\n",
    "$$\n",
    "\n",
    "on each one of the timesteps used by Trotter. We compute this exponential using SciPy's [linalg.expm](https://docs.scipy.org/doc/scipy/reference/generated/scipy.linalg.expm.html) function, and then we let the initial system evolve using the `Statevector`'s [evolve](https://qiskit.org/documentation/stubs/qiskit.quantum_info.Statevector.evolve.html) method. This becomes too costly to be performed on larger systems very quickly."
   ]
  },
  {
   "cell_type": "code",
   "execution_count": null,
   "id": "3ccb7f8b-fe5f-4405-abd4-8cb0cd919916",
   "metadata": {},
   "outputs": [],
   "source": [
    "import scipy as sc\n",
    "\n",
    "H_array = H.to_matrix()\n",
    "\n",
    "# We define a slightly denser time mesh\n",
    "exact_times = np.linspace(0, final_time, 101)\n",
    "\n",
    "# We compute the exact evolution using the exp\n",
    "exact_evolution = [\n",
    "    initial_state.evolve(sc.linalg.expm(-1j * time * H_array)) for time in exact_times\n",
    "]"
   ]
  },
  {
   "cell_type": "markdown",
   "id": "20da64a4-9211-44a9-9d1e-6b42ca87692c",
   "metadata": {},
   "source": [
    "Having the exact state vectors, we compute the exact evolution of our operators' expectation values."
   ]
  },
  {
   "cell_type": "code",
   "execution_count": null,
   "id": "f3d29f74-55ea-4261-802a-a8346cbc231d",
   "metadata": {},
   "outputs": [],
   "source": [
    "exact_energy = np.real([sv.expectation_value(H) for sv in exact_evolution])\n",
    "exact_magnetization = np.real([sv.expectation_value(magnetization_op) for sv in exact_evolution])\n",
    "exact_correlation = np.real([sv.expectation_value(correlation_op) for sv in exact_evolution])"
   ]
  },
  {
   "cell_type": "markdown",
   "id": "6e3eea26-539e-4749-8dec-e8e3cc378830",
   "metadata": {},
   "source": [
    "We incorporate the exact evolution of the operators alongside the expected values resulting from the Trotterization."
   ]
  },
  {
   "cell_type": "code",
   "execution_count": null,
   "id": "386e3a68-ea28-499a-a5f9-797896ba3a9f",
   "metadata": {},
   "outputs": [],
   "source": [
    "axes[0].plot(exact_times, exact_energy, c=\"k\", ls=\":\", label=\"Exact\")\n",
    "axes[1].plot(exact_times, exact_magnetization, c=\"k\", ls=\":\", label=\"Exact\")\n",
    "axes[2].plot(exact_times, exact_correlation, c=\"k\", ls=\":\", label=\"Exact\")\n",
    "# Select the labels of only the first axis\n",
    "legend = fig.legend(\n",
    "    *axes[0].get_legend_handles_labels(),\n",
    "    bbox_to_anchor=(1.0, 0.5),\n",
    "    loc=\"center left\",\n",
    "    framealpha=0.5,\n",
    ")\n",
    "fig.tight_layout()\n",
    "fig"
   ]
  },
  {
   "cell_type": "markdown",
   "id": "0550c4c6-9744-4ab3-a2f4-dda166c29855",
   "metadata": {},
   "source": [
    "We see that, as an approximation, a Pauli-Trotter evolution isn't too far from the exact solution, but the accuracy is limited. Let's see how to find higher order formulas to address this."
   ]
  },
  {
   "cell_type": "markdown",
   "id": "cf51369f-409e-4108-945e-cc985ec46974",
   "metadata": {},
   "source": [
    "### Product formula overview\n",
    "\n",
    "If it isn't specified, the default product formula that `TrotterQRTE` uses is the Lie product formula [2], which is at first order. In Qiskit this is implemented in the [LieTrotter](https://qiskit.org/documentation/stubs/qiskit.synthesis.LieTrotter.html) class. A first order formula consists of the approximation stated in the introduction, where the matrix exponential of a sum is approximated by a product of matrix exponentials:\n",
    "\n",
    "$$\n",
    "e^{A+B} \\approx e^A e^B\n",
    "$$"
   ]
  },
  {
   "cell_type": "markdown",
   "id": "40d87353-3e42-48cc-a193-0b4d8f1421c1",
   "metadata": {},
   "source": [
    "Knowing this, we can have a look at the circuit that performs a single Trotter step."
   ]
  },
  {
   "cell_type": "code",
   "execution_count": null,
   "id": "ee8f1ba9-3c5d-41fe-9f93-1fe735216dd9",
   "metadata": {},
   "outputs": [],
   "source": [
    "from qiskit.circuit import QuantumCircuit\n",
    "from qiskit.circuit.library import PauliEvolutionGate\n",
    "from qiskit.synthesis import LieTrotter\n",
    "\n",
    "dt = final_time / num_timesteps\n",
    "trotter_step_first_order = PauliEvolutionGate(H, dt, synthesis=LieTrotter())\n",
    "\n",
    "# We create an empty circuit\n",
    "circuit = QuantumCircuit(H.num_qubits)\n",
    "circuit.append(trotter_step_first_order, range(H.num_qubits))\n",
    "circuit = circuit.decompose(reps=2)\n",
    "\n",
    "# Let us print some stats\n",
    "print(\n",
    "    f\"\"\"\n",
    "Trotter step with Lie-Trotter\n",
    "-----------------------------\n",
    "\n",
    "                  Depth: {circuit.depth()}\n",
    "             Gate count: {len(circuit)}\n",
    "    Nonlocal gate count: {circuit.num_nonlocal_gates()}\n",
    "         Gate breakdown: {\", \".join([f\"{k.upper()}: {v}\" for k, v in circuit.count_ops().items()])}\n",
    "\"\"\"\n",
    ")\n",
    "\n",
    "# And finally draw the circuit\n",
    "circuit.draw(\"mpl\")"
   ]
  },
  {
   "cell_type": "markdown",
   "id": "ad8c6b98-eb15-497f-ba17-35402c0f8a22",
   "metadata": {},
   "source": [
    "There exists a second-order formula, called the Suzuki-Trotter decomposition [3], and can be used in Qiskit by means of the [SuzukiTrotter class](https://qiskit.org/documentation/stubs/qiskit.synthesis.SuzukiTrotter.html). Using this formula, a second order decomposition is:\n",
    "\n",
    "$$\n",
    "e^{A+B} \\approx e^{B/2}e^{A}e^{B/2}\n",
    "$$\n",
    "\n",
    "By means of recursions, higher-order approximations can be found [1]."
   ]
  },
  {
   "cell_type": "code",
   "execution_count": null,
   "id": "9ef7b40c-cdcb-4e61-a4d9-b893af870821",
   "metadata": {},
   "outputs": [],
   "source": [
    "from qiskit.synthesis import SuzukiTrotter\n",
    "\n",
    "second_order_formula = SuzukiTrotter()  # if not passed, order defaults to 2\n",
    "trotter_step_second_order = PauliEvolutionGate(H, dt, synthesis=second_order_formula)\n",
    "circuit = QuantumCircuit(H.num_qubits)\n",
    "circuit.append(trotter_step_second_order, range(H.num_qubits))\n",
    "circuit = circuit.decompose(reps=2)\n",
    "\n",
    "# Let us print some stats\n",
    "print(\n",
    "    f\"\"\"\n",
    "Trotter step with Suzuki Trotter (2nd order)\n",
    "--------------------------------------------\n",
    "\n",
    "                  Depth: {circuit.depth()}\n",
    "             Gate count: {len(circuit)}\n",
    "    Nonlocal gate count: {circuit.num_nonlocal_gates()}\n",
    "         Gate breakdown: {\", \".join([f\"{k.upper()}: {v}\" for k, v in circuit.count_ops().items()])}\n",
    "\n",
    "\"\"\"\n",
    ")\n",
    "\n",
    "# And final\n",
    "circuit.draw(\"mpl\")"
   ]
  },
  {
   "cell_type": "code",
   "execution_count": null,
   "id": "6c3befc4-9c10-4081-a245-d50e693dc195",
   "metadata": {
    "scrolled": true
   },
   "outputs": [],
   "source": [
    "fourth_order_formula = SuzukiTrotter(order=4)\n",
    "trotter_step_fourth_order = PauliEvolutionGate(H, dt, synthesis=fourth_order_formula)\n",
    "circuit = QuantumCircuit(H.num_qubits)\n",
    "circuit.append(trotter_step_fourth_order, range(H.num_qubits))\n",
    "circuit = circuit.decompose(reps=2)\n",
    "\n",
    "# Let us print some stats\n",
    "print(\n",
    "    f\"\"\"\n",
    "Trotter step with Suzuki Trotter (4th order)\n",
    "--------------------------------------------\n",
    "\n",
    "                  Depth: {circuit.depth()}\n",
    "             Gate count: {len(circuit)}\n",
    "    Nonlocal gate count: {circuit.num_nonlocal_gates()}\n",
    "         Gate breakdown: {\", \".join([f\"{k.upper()}: {v}\" for k, v in circuit.count_ops().items()])}\n",
    "\n",
    "\"\"\"\n",
    ")"
   ]
  },
  {
   "cell_type": "markdown",
   "id": "ab5323ce-33f9-4fba-8cfd-5bdf72ecb9c2",
   "metadata": {},
   "source": [
    "Finally, let us perform a simulation at fourth order."
   ]
  },
  {
   "cell_type": "code",
   "execution_count": null,
   "id": "60beaab5-7b78-456b-8df4-097c14c7967c",
   "metadata": {},
   "outputs": [],
   "source": [
    "from qiskit.synthesis import SuzukiTrotter\n",
    "\n",
    "trotter = TrotterQRTE(SuzukiTrotter(order=4), num_timesteps=num_timesteps, estimator=Estimator())\n",
    "problem = TimeEvolutionProblem(\n",
    "    H,\n",
    "    initial_state=initial_state,\n",
    "    time=final_time,\n",
    "    aux_operators=[H, magnetization_op, correlation_op],\n",
    ")\n",
    "result = trotter.evolve(problem)\n",
    "observables_order4 = np.array(np.array(result.observables)[:, :, 0], dtype=np.float64)"
   ]
  },
  {
   "cell_type": "markdown",
   "id": "6b1c5876-f313-4620-82dd-6ac51c1f8a76",
   "metadata": {},
   "source": [
    "and plot the results."
   ]
  },
  {
   "cell_type": "code",
   "execution_count": null,
   "id": "227b00c2-063e-4409-996e-5f8e48844ab8",
   "metadata": {},
   "outputs": [],
   "source": [
    "axes[0].plot(\n",
    "    times, observables_order4[:, 0], label=\"Fourth Order\", marker=\"x\", c=\"limegreen\", ls=\"-\", lw=0.8\n",
    ")\n",
    "axes[1].plot(\n",
    "    times, observables_order4[:, 1], label=\"Fourth Order\", marker=\"x\", c=\"limegreen\", ls=\"-\", lw=0.8\n",
    ")\n",
    "axes[2].plot(\n",
    "    times, observables_order4[:, 2], label=\"Fourth Order\", marker=\"x\", c=\"limegreen\", ls=\"-\", lw=0.8\n",
    ")\n",
    "\n",
    "# Replace the legend\n",
    "legend.remove()\n",
    "legend = fig.legend(\n",
    "    *axes[0].get_legend_handles_labels(),\n",
    "    bbox_to_anchor=(1.0, 0.5),\n",
    "    loc=\"center left\",\n",
    "    framealpha=0.5,\n",
    ")\n",
    "fig"
   ]
  },
  {
   "cell_type": "markdown",
   "id": "5cd822d9-44ee-4391-8b47-ff861aa37451",
   "metadata": {},
   "source": [
    "As it is to expect, we can directly see that a higher-order product formula leads to more accurate expectation values."
   ]
  },
  {
   "cell_type": "markdown",
   "id": "04063266-5c25-43b8-b2b8-62f343ddd012",
   "metadata": {},
   "source": [
    "### Magnetization evolution plot\n",
    "\n",
    "In this last step, we aim at visualizing the time evolution of each one of the sites of the lattice individually. Let us present the expected value of the magnetization of each one of the sites as a function of time in a color plot. As the initial state was $\\vert\\psi(0)\\rangle = \\vert001100\\rangle$ (spin sequence $\\uparrow\\uparrow\\downarrow\\downarrow\\uparrow\\uparrow$), at time $t=0$ we expect to see magnetization $-1$ in the two middle signs and $+1$ elsewhere. During the evolution, as the plot above suggests, we can expect to see oscillations which will eventually damp."
   ]
  },
  {
   "cell_type": "code",
   "execution_count": null,
   "id": "cb194f62-1d36-45a4-9874-b937ffc76860",
   "metadata": {},
   "outputs": [],
   "source": [
    "from matplotlib import cm\n",
    "\n",
    "# An inner list comprehension loops over the terms of the SparsePauliOp magnetization_op,\n",
    "# which corresponds to the magnetization of each one of the sites\n",
    "magnetizations = np.real(\n",
    "    [[sv.expectation_value(term) for term in magnetization_op] for sv in exact_evolution]\n",
    ")\n",
    "# The shape of magnetizations is (101, 6), containing <Z>(t) for each site 0, 1, ..., 5\n",
    "plt.figure(figsize=(14, 2))\n",
    "# Create the 2-dim xx and yy arrays tiling the grid with the x and y values\n",
    "xx, yy = np.meshgrid(exact_times, np.arange(L))\n",
    "plt.pcolor(xx, yy, magnetizations.T, vmin=-1, vmax=+1, cmap=\"RdBu\")\n",
    "# Force the figure to have all y ticks from 0 to 5\n",
    "plt.yticks(np.arange(L))\n",
    "plt.ylabel(\"Site $i$\")\n",
    "plt.xlabel(\"Time\")\n",
    "plt.colorbar(label=\"$\\\\langle Z_i \\\\rangle$\", aspect=1.8)"
   ]
  },
  {
   "cell_type": "markdown",
   "id": "f8f1d285-2f9d-404a-9fac-6b599760af7c",
   "metadata": {},
   "source": [
    "## References\n",
    "\n",
    "[1] Hatano, Naomichi, and Masuo Suzuki. \"Finding exponential product formulas of higher orders.\" _Quantum annealing and other optimization methods._ Berlin, Heidelberg: Springer Berlin Heidelberg, 2005. 37-68.\n",
    "\n",
    "[2] Varadarajan, Veeravalli S. _Lie groups, Lie algebras, and their representations._ Vol. 102. Springer Science & Business Media, 2013.\n",
    "\n",
    "[3] Magnus, Wilhelm. \"On the exponential solution of differential equations for a linear operator.\" _Communications on pure and applied mathematics_ 7.4 (1954): 649-673."
   ]
  }
 ],
 "metadata": {
  "kernelspec": {
   "display_name": "Python 3 (ipykernel)",
   "language": "python",
   "name": "python3"
  },
  "language_info": {
   "codemirror_mode": {
    "name": "ipython",
    "version": 3
   },
   "file_extension": ".py",
   "mimetype": "text/x-python",
   "name": "python",
   "nbconvert_exporter": "python",
   "pygments_lexer": "ipython3",
   "version": "3.9.19"
  }
 },
 "nbformat": 4,
 "nbformat_minor": 5
}
