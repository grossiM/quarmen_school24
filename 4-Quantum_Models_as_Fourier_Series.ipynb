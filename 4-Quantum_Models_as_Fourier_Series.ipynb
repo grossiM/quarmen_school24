{
 "cells": [
  {
   "cell_type": "markdown",
   "metadata": {
    "id": "Npd8h7M96kmt"
   },
   "source": [
    "# Supervised Learning: Quantum Models as Fourier Series"
   ]
  },
  {
   "cell_type": "markdown",
   "metadata": {
    "id": "BJxNTmO26ova"
   },
   "source": [
    "This tutorial is based on the paper **The effect of data encoding on the expressive power of variational quantum machine learning models** by [Schuld, Sweke, and Meyer (2020)](https://arxiv.org/abs/2008.08605)"
   ]
  },
  {
   "cell_type": "markdown",
   "metadata": {
    "id": "PsDbJrE07xT0"
   },
   "source": [
    "The paper talks about common quantum machine learning models designed for near-term quantum computers to Fourier Series.\n"
   ]
  },
  {
   "cell_type": "markdown",
   "metadata": {
    "id": "ohpH_d9g7_4I"
   },
   "source": [
    "## Background\n",
    "\n",
    "Let's consider a quantum machine learning model of the form:\n",
    "$$ f_{\\boldsymbol \\theta}(x) = \\langle 0| U^{\\dagger}(x,\\boldsymbol \\theta) M U(x, \\boldsymbol \\theta) | 0 \\rangle $$\n",
    "\n",
    "Where $M$ is the measurement observable and $U(x, \\theta)$ is a variational quantum circuit that enocdes the data input $x$ and depends on a set of parameters $\\theta$. We will currently work on $1-$D data.\n",
    "\n",
    "------------\n",
    "---------------\n",
    "\n",
    "\n",
    "The circuit repeats itself $L$ layers, each consisting of a data-encoding block $S(x)$ and a trainable block $W(\\theta)$ that is controlled by the parameters $\\theta$. The data encoding block consists of gates of the form $\\mathcal{G}(x) = e^{-\\iota x H}$ where $H$ is the Hamiltonian. A prominent example are Pauli Rotations.\n",
    "\n",
    "\n",
    "\n",
    "-------------------------------\n",
    "------------------------------\n",
    "\n",
    "The paper shows that this quantum model can be written as a Fourier-type sum of the form\n",
    "\n",
    "$$ f_{ \\boldsymbol \\theta}(x) = \\sum_{\\omega \\in \\Omega} c_{\\omega}( \\boldsymbol \\theta) \\; e^{i  \\omega x}. $$\n",
    "\n",
    "As illustrated in the picture below, the \"encoding Hamiltonians\" in $S(x)$ determine the set of $\\Omega$ of available \"frequencies\" and the remainder of the cirucit, including the trainable parameters, determines the coefficients $c_{\\omega}$.\n",
    "\n",
    "\n"
   ]
  },
  {
   "cell_type": "markdown",
   "metadata": {
    "id": "IcTQxVUm63Rn"
   },
   "source": [
    "<div>\n",
    "<img src=\"paper_img.png\" width=\"600\" align=\"left\"/>\n",
    "</div>"
   ]
  },
  {
   "cell_type": "markdown",
   "metadata": {
    "id": "2mJ_Q3S___dQ"
   },
   "source": [
    "The paper demonstrates many of its findings for a circuits in which $\\mathcal{G}(x)$ is a single-qubit Pauli rotation gate.\n",
    "\n",
    "\n",
    "For example, it shows that $r$ repetitions of a Pauli rotation-encoding gate in \"sequence\" (on the same qubit, but with multiple layers $r=L$) or in \"parallel\" (on $r$ different qubits with $L=1$) creates a quantum model that can be expessed as a *Fourier series* of the form:\n",
    "\n",
    "\n",
    "$$ f_{ \\boldsymbol \\theta}(x) = \\sum_{n \\in \\Omega} c_{n}(\\boldsymbol \\theta) e^{i  n x}, $$\n",
    "\n",
    "where $\\Omega = \\{ -r, \\dots, -1, 0, 1, \\dots, r\\}$ is a spectrun of consercutive integer-valued frequencies up to degree $r$."
   ]
  },
  {
   "cell_type": "code",
   "execution_count": null,
   "metadata": {
    "id": "W4OXMlmh_caU"
   },
   "outputs": [],
   "source": [
    "import matplotlib.pyplot as plt\n",
    "import pennylane as qml\n",
    "from pennylane import numpy as np"
   ]
  },
  {
   "cell_type": "code",
   "execution_count": null,
   "metadata": {
    "id": "DtDRUDxz6dwO"
   },
   "outputs": [],
   "source": [
    "np.random.seed(135)\n",
    "\n",
    "\n",
    "def square_loss(targets, predictions):\n",
    "  loss = 0\n",
    "  for t, p in zip(targets, predictions):\n",
    "    loss += (t - p) ** 2\n",
    "  loss = loss / len(targets)\n",
    "  return 0.5*loss\n"
   ]
  },
  {
   "cell_type": "markdown",
   "metadata": {
    "id": "b4tF4UkDCGNP"
   },
   "source": [
    "# Part 1: Fitting Fourier Series with serial Pauli-rotation encoding\n",
    "\n",
    "Let us consider circuits where the encoding gate gates repeated sequentially. Once we load the data onto the quantum circuit, we want to have some trainable nonlinear model similar to a neural network as well as a way of learning the weights of the model from data. In principle, this is just application of two matrix multiplications on an input vector initialized to some value. In order to increase the number of trainable parameters (similar to increasing neurons in a single layer of a neural network), we can reapply this layer again and again with new sets of weights.\n",
    "\n",
    "For simplicity we will only look at single-qubit circuits:\n",
    "\n",
    "<div>\n",
    "<img src=\"single_qubit_model.png\" width=\"600\" align=\"left\"/>\n",
    "</div>\n",
    "\n",
    "\n"
   ]
  },
  {
   "cell_type": "markdown",
   "metadata": {},
   "source": [
    "Here is where things gets a bit quantum. After the application of the layers, we will end up at some point on the Bloch sphere due to the sequence of unitaries implementing rotations of the input. These are still just linear transformations of the input state. "
   ]
  },
  {
   "cell_type": "markdown",
   "metadata": {
    "id": "7K7CM1FVCbXC"
   },
   "source": [
    "## Define a target function\n",
    "\n",
    "We first define a taget function which will be used as a \"ground truth\" that the quantum model has to fit. It is a Fourier series of a specific degree.\n",
    "\n",
    "\n",
    "We also work with a rescaling factor for data by a hyperparameter `scaling`, which we will do in the quantum model as well"
   ]
  },
  {
   "cell_type": "code",
   "execution_count": null,
   "metadata": {
    "id": "CtNRTC1SCE6l"
   },
   "outputs": [],
   "source": [
    "degree = 1 # since we are using a single qubit model it would be better to keep it to 1\n",
    "scaling = 1 # scaling factor for the data\n",
    "\n",
    "coeffs = [0.15 + 0.15j]*degree # coefficient of the non-zero frequencies\n",
    "\n",
    "coeff0 = 0.1 # coefficient of zero frequency\n",
    "\n",
    "\n",
    "def target_function(x):\n",
    "  \"\"\"\n",
    "  Generate a truncated Fourier series, where the data gets re-scaled\n",
    "  \"\"\"\n",
    "  res = coeff0\n",
    "  for idx, coeff in enumerate(coeffs):\n",
    "    exponent = np.complex128(scaling * (idx + 1) * x * 1j)\n",
    "    conj_coeff = np.conjugate(coeff)\n",
    "    res += coeff * np.exp(exponent) + conj_coeff * np.exp(-exponent)\n",
    "  return np.real(res)"
   ]
  },
  {
   "cell_type": "markdown",
   "metadata": {
    "id": "lO8jTFVHDvJT"
   },
   "source": [
    "Let's see how it looks"
   ]
  },
  {
   "cell_type": "code",
   "execution_count": null,
   "metadata": {
    "colab": {
     "base_uri": "https://localhost:8080/",
     "height": 269
    },
    "id": "bmZUJPOxDt4J",
    "outputId": "7c18ea14-bd0c-429a-cf6b-6a12a2ceaf6a"
   },
   "outputs": [],
   "source": [
    "x = np.linspace(-6, 6, 70, requires_grad=False)\n",
    "target_y = np.array([target_function(x_) for x_ in x], requires_grad=False)\n",
    "\n",
    "plt.plot(x, target_y, c='black')\n",
    "plt.scatter(x, target_y, facecolor='white', edgecolor='black')\n",
    "plt.ylim(-1, 1)\n",
    "plt.show();"
   ]
  },
  {
   "cell_type": "markdown",
   "metadata": {
    "id": "7Wk7nhnbEw0k"
   },
   "source": [
    "## Define the serial quantum model\n",
    "\n",
    "We now define the quantum model itself:"
   ]
  },
  {
   "cell_type": "code",
   "execution_count": null,
   "metadata": {
    "id": "Nby8LTLVDyRz"
   },
   "outputs": [],
   "source": [
    "scaling = 1\n",
    "\n",
    "\n",
    "dev = qml.device('default.qubit', wires =1)\n",
    "\n",
    "def S(x):\n",
    "  \"\"\"Data encodng circuit block\"\"\"\n",
    "  qml.RX(scaling * x, wires = 0)\n",
    "\n",
    "def W(theta):\n",
    "  \"\"\"Trainable circuit block\"\"\"\n",
    "  qml.Rot(theta[0], theta[1], theta[2], wires=0)\n",
    "\n",
    "@qml.qnode(dev)\n",
    "\n",
    "def serial_quantum_model(weights,x):\n",
    "\n",
    "  for theta in weights[:-1]:\n",
    "    W(theta)\n",
    "    S(x)\n",
    "\n",
    "  # (L+1)'th unitary\n",
    "  W(weights[-1])\n",
    "\n",
    "  return qml.expval(qml.PauliZ(wires=0))"
   ]
  },
  {
   "cell_type": "markdown",
   "metadata": {
    "id": "8U8fDFlGFpoz"
   },
   "source": [
    "You can run the following cell multiple times, each time sampling different weights, and therefore different quantum models."
   ]
  },
  {
   "cell_type": "code",
   "execution_count": null,
   "metadata": {
    "colab": {
     "base_uri": "https://localhost:8080/",
     "height": 269
    },
    "id": "UX-8mzCdFdKu",
    "outputId": "0514482e-cf81-458b-c472-d78adb8e942f"
   },
   "outputs": [],
   "source": [
    "r = 1 # number of times the encoding gets repeated (here equal to the number of layers)\n",
    "weights = 2 * np.pi * np.random.random(size=(r+1, 3), requires_grad=True) # some random initial weights\n",
    "\n",
    "x = np.linspace(-6, 6, 70, requires_grad=False)\n",
    "random_quantum_model_y = [serial_quantum_model(weights, x_) for x_ in x]\n",
    "\n",
    "plt.plot(x, random_quantum_model_y, c='blue')\n",
    "plt.ylim(-1,1)\n",
    "plt.show()"
   ]
  },
  {
   "cell_type": "markdown",
   "metadata": {
    "id": "pRiQ8hZIN6Pf"
   },
   "source": [
    "No matter what weights are picked, the single qubit model for L=1 will always be a sine function of a fixed frequency. The weights merely influence the amplitude, y-shift, and phase of the sine.\n",
    "\n",
    "This observation is formally derived in Section II.A of the paper."
   ]
  },
  {
   "cell_type": "markdown",
   "metadata": {
    "id": "L8ZVTJ__N8rZ"
   },
   "source": [
    "Let's look at the circuit we just made"
   ]
  },
  {
   "cell_type": "code",
   "execution_count": null,
   "metadata": {
    "colab": {
     "base_uri": "https://localhost:8080/"
    },
    "id": "zuYFgydOFsLQ",
    "outputId": "fca5671b-dc77-4318-a09c-b005c950893a"
   },
   "outputs": [],
   "source": [
    "print(qml.draw_mpl(serial_quantum_model)(weights, x[-1]))"
   ]
  },
  {
   "cell_type": "markdown",
   "metadata": {
    "id": "EXm8oBHUOCEw"
   },
   "source": [
    "## Fit the model to the target\n",
    "\n",
    "The next step is to optimize the weights in order to fit the ground truth"
   ]
  },
  {
   "cell_type": "code",
   "execution_count": null,
   "metadata": {
    "colab": {
     "base_uri": "https://localhost:8080/"
    },
    "id": "MzciLrhoJF5O",
    "outputId": "5894dce1-1bf1-4165-c172-bb08cbf832c5"
   },
   "outputs": [],
   "source": [
    "def cost(weights, x, y):\n",
    "    predictions = [serial_quantum_model(weights, x_) for x_ in x]\n",
    "    return square_loss(y, predictions)\n",
    "\n",
    "max_steps = 50\n",
    "opt = qml.AdamOptimizer(0.3)\n",
    "batch_size = 25\n",
    "cst = [cost(weights, x, target_y)]  # initial cost\n",
    "\n",
    "for step in range(max_steps):\n",
    "\n",
    "    # Select batch of data\n",
    "    batch_index = np.random.randint(0, len(x), (batch_size,))\n",
    "    x_batch = x[batch_index]\n",
    "    y_batch = target_y[batch_index]\n",
    "\n",
    "    # Update the weights by one optimizer step\n",
    "    weights, _, _ = opt.step(cost, weights, x_batch, y_batch)\n",
    "\n",
    "    # Save, and possibly print, the current cost\n",
    "    c = cost(weights, x, target_y)\n",
    "    cst.append(c)\n",
    "    if (step + 1) % 10 == 0:\n",
    "        print(\"Cost at step {0:3}: {1}\".format(step + 1, c))"
   ]
  },
  {
   "cell_type": "markdown",
   "metadata": {
    "id": "o4mag-X3OMq5"
   },
   "source": [
    "To continue training, you may just run the above cell again. Once you are happy, you can use the trained model to predict function values, and compare them with the ground truth."
   ]
  },
  {
   "cell_type": "code",
   "execution_count": null,
   "metadata": {
    "colab": {
     "base_uri": "https://localhost:8080/",
     "height": 269
    },
    "id": "_yDrdh4GOLD2",
    "outputId": "42f6a79b-8c39-4cf3-f226-a2b528a4bcd0"
   },
   "outputs": [],
   "source": [
    "predictions = [serial_quantum_model(weights, x_) for x_ in x]\n",
    "\n",
    "plt.plot(x, target_y, c='black')\n",
    "plt.scatter(x, target_y, facecolor='white', edgecolor='black')\n",
    "plt.plot(x, predictions, c='blue')\n",
    "plt.ylim(-1,1)\n",
    "plt.show();"
   ]
  },
  {
   "cell_type": "markdown",
   "metadata": {
    "id": "G1PVUoBUORWE"
   },
   "source": [
    "Let’s also have a look at the cost during training."
   ]
  },
  {
   "cell_type": "code",
   "execution_count": null,
   "metadata": {
    "colab": {
     "base_uri": "https://localhost:8080/",
     "height": 279
    },
    "id": "xXCXlkZIOPqf",
    "outputId": "9597299e-5623-41df-98fb-f8ac234d7855"
   },
   "outputs": [],
   "source": [
    "plt.plot(range(len(cst)), cst)\n",
    "plt.ylabel(\"Cost\")\n",
    "plt.xlabel(\"Step\")\n",
    "plt.ylim(0, 0.23)\n",
    "plt.show();"
   ]
  },
  {
   "cell_type": "markdown",
   "metadata": {
    "id": "jNpbsTzHOWDh"
   },
   "source": [
    "With the initial settings and enough training steps, the quantum model learns to fit the ground truth perfectly. This is expected, since the number of Pauli-rotation-encoding gates and the degree of the ground truth Fourier series are both one.\n",
    "\n",
    "If the ground truth’s degree is larger than the number of layers in the quantum model, the fit will look much less accurate. And finally, we also need to have the correct scaling of the data: if one of the models changes the scaling parameter (which effectively scales the frequencies), fitting does not work even with enough encoding repetitions."
   ]
  },
  {
   "cell_type": "markdown",
   "metadata": {
    "id": "l07bIlXkOXj2"
   },
   "source": [
    "## Part II: Fitting the Fourier series with parallel Pauli-rotation encoding\n",
    "\n",
    "Our next task is to repeat the function-fitting experiment for a circuit where the Pauli rotation gate gets repeated $r$ times on different qubits, using a single layer $L=1$.\n",
    "\n",
    "As shown in the paper, we expect similar results to the serial model: a Fourier series of degree $r$ can only be fitted if there are at least r repetitions of the encoding gate in the quantum model. However, in practice this experiment is a bit harder, since the dimension of the trainable unitaries $W$ grows quickly with the number of qubits.\n",
    "\n",
    "In the paper, the investigations are made with the assumption that the trainable blocks $W$ are arbitrary unitaries. We could use the ArbitraryUnitary template, but since this template requires a number of parameters that grows exponentially with the number of qubits ($4^L−1$ to be precise), this quickly becomes cumbersome to train.\n",
    "\n",
    "We therefore follow Figure 4 in the paper and use an ansatz for $W$.\n",
    "\n"
   ]
  },
  {
   "cell_type": "markdown",
   "metadata": {
    "id": "i9AmyCzeOvlj"
   },
   "source": [
    "<div>\n",
    "<img src=\"fig4.png\" width=\"600\" align=\"left\"/>\n",
    "</div>\n"
   ]
  },
  {
   "cell_type": "markdown",
   "metadata": {
    "id": "I_UEaqVVOyhR"
   },
   "source": [
    "## Define the parallel quantum model\n",
    "\n",
    "The ansatz is PennyLane’s layer structure called `StronglyEntanglingLayers`, and as the name suggests, it has itself a user-defined number of layers (which we will call “ansatz layers” to avoid confusion)."
   ]
  },
  {
   "cell_type": "code",
   "execution_count": null,
   "metadata": {
    "id": "LOO2eqOOOUcf"
   },
   "outputs": [],
   "source": [
    "from pennylane.templates import StronglyEntanglingLayers"
   ]
  },
  {
   "cell_type": "markdown",
   "metadata": {
    "id": "-D9NYqDGO7k9"
   },
   "source": [
    "Let’s have a quick look at the ansatz itself for 3 qubits by making a dummy circuit of 2 ansatz layers:"
   ]
  },
  {
   "cell_type": "code",
   "execution_count": null,
   "metadata": {
    "colab": {
     "base_uri": "https://localhost:8080/"
    },
    "id": "yJIBuf91O6Qm",
    "outputId": "e6a2cde0-0177-4a27-b935-0b3741643c51"
   },
   "outputs": [],
   "source": [
    "n_ansatz_layers = 2\n",
    "n_qubits = 3\n",
    "\n",
    "dev = qml.device('default.qubit', wires=4)\n",
    "\n",
    "@qml.qnode(dev)\n",
    "def ansatz(weights):\n",
    "    StronglyEntanglingLayers(weights, wires=range(n_qubits))\n",
    "    return qml.expval(qml.Identity(wires=0))\n",
    "\n",
    "weights_ansatz = 2 * np.pi * np.random.random(size=(n_ansatz_layers, n_qubits, 3))\n",
    "print(qml.draw_mpl(ansatz, expansion_strategy=\"device\")(weights_ansatz))"
   ]
  },
  {
   "cell_type": "markdown",
   "metadata": {
    "id": "8vlbhtkwO_cX"
   },
   "source": [
    "Now we define the actual quantum model\n"
   ]
  },
  {
   "cell_type": "code",
   "execution_count": null,
   "metadata": {
    "id": "vlkySOdKO-ZD"
   },
   "outputs": [],
   "source": [
    "scaling = 1\n",
    "r = 3\n",
    "\n",
    "dev = qml.device('default.qubit', wires=r)\n",
    "\n",
    "def S(x):\n",
    "    \"\"\"Data-encoding circuit block.\"\"\"\n",
    "    for w in range(r):\n",
    "        qml.RX(scaling * x, wires=w)\n",
    "\n",
    "def W(theta):\n",
    "    \"\"\"Trainable circuit block.\"\"\"\n",
    "    StronglyEntanglingLayers(theta, wires=range(r))\n",
    "\n",
    "\n",
    "@qml.qnode(dev)\n",
    "def parallel_quantum_model(weights, x):\n",
    "\n",
    "    W(weights[0])\n",
    "    S(x)\n",
    "    W(weights[1])\n",
    "\n",
    "    return qml.expval(qml.PauliZ(wires=0))"
   ]
  },
  {
   "cell_type": "markdown",
   "metadata": {
    "id": "1GPvn8iVPEkP"
   },
   "source": [
    "Again, you can sample random weights and plot the model function:"
   ]
  },
  {
   "cell_type": "code",
   "execution_count": null,
   "metadata": {
    "colab": {
     "base_uri": "https://localhost:8080/",
     "height": 269
    },
    "id": "cxqKeti1PDJP",
    "outputId": "b091140c-7e1d-49f8-de56-8cd6bf098c20"
   },
   "outputs": [],
   "source": [
    "trainable_block_layers = 3\n",
    "weights = 2 * np.pi * np.random.random(size=(2, trainable_block_layers, r, 3), requires_grad=True)\n",
    "\n",
    "x = np.linspace(-6, 6, 70, requires_grad=False)\n",
    "random_quantum_model_y = [parallel_quantum_model(weights, x_) for x_ in x]\n",
    "\n",
    "plt.plot(x, random_quantum_model_y, c='blue')\n",
    "plt.ylim(-1,1)\n",
    "plt.show();"
   ]
  },
  {
   "cell_type": "markdown",
   "metadata": {
    "id": "_05tBpj1PIDv"
   },
   "source": [
    "## Training the model\n",
    "\n",
    "Training the model is done exactly as before, but it may take a lot longer this time. We set a default of 25 steps, which you should increase if necessary. Small models of <6 qubits usually converge after a few hundred steps at most—but this depends on your settings."
   ]
  },
  {
   "cell_type": "code",
   "execution_count": null,
   "metadata": {
    "colab": {
     "base_uri": "https://localhost:8080/"
    },
    "id": "mPHszjIkPGx0",
    "outputId": "d4db7d94-e9e4-4d28-89a4-ad0c41481f9a"
   },
   "outputs": [],
   "source": [
    "def cost(weights, x, y):\n",
    "    predictions = [parallel_quantum_model(weights, x_) for x_ in x]\n",
    "    return square_loss(y, predictions)\n",
    "\n",
    "max_steps = 50\n",
    "opt = qml.AdamOptimizer(0.3)\n",
    "batch_size = 25\n",
    "cst = [cost(weights, x, target_y)]  # initial cost\n",
    "\n",
    "for step in range(max_steps):\n",
    "\n",
    "    # select batch of data\n",
    "    batch_index = np.random.randint(0, len(x), (batch_size,))\n",
    "    x_batch = x[batch_index]\n",
    "    y_batch = target_y[batch_index]\n",
    "\n",
    "    # update the weights by one optimizer step\n",
    "    weights, _, _ = opt.step(cost, weights, x_batch, y_batch)\n",
    "\n",
    "    # save, and possibly print, the current cost\n",
    "    c = cost(weights, x, target_y)\n",
    "    cst.append(c)\n",
    "    if (step + 1) % 10 == 0:\n",
    "        print(\"Cost at step {0:3}: {1}\".format(step + 1, c))"
   ]
  },
  {
   "cell_type": "code",
   "execution_count": null,
   "metadata": {
    "colab": {
     "base_uri": "https://localhost:8080/",
     "height": 269
    },
    "id": "dc6qgjQNPN_U",
    "outputId": "5e7b3873-e96b-4a03-8287-1bd5d2775c14"
   },
   "outputs": [],
   "source": [
    "predictions = [parallel_quantum_model(weights, x_) for x_ in x]\n",
    "\n",
    "plt.plot(x, target_y, c='black')\n",
    "plt.scatter(x, target_y, facecolor='white', edgecolor='black')\n",
    "plt.plot(x, predictions, c='blue')\n",
    "plt.ylim(-1,1)\n",
    "plt.show();"
   ]
  },
  {
   "cell_type": "code",
   "execution_count": null,
   "metadata": {
    "colab": {
     "base_uri": "https://localhost:8080/",
     "height": 282
    },
    "id": "svNpBDFHPPxy",
    "outputId": "6dbe7a4e-7a59-466a-a72a-a07d4be85acb"
   },
   "outputs": [],
   "source": [
    "plt.plot(range(len(cst)), cst)\n",
    "plt.ylabel(\"Cost\")\n",
    "plt.xlabel(\"Step\")\n",
    "plt.show();"
   ]
  },
  {
   "cell_type": "markdown",
   "metadata": {
    "id": "UUYfIMqnPSrK"
   },
   "source": [
    "## Part III: Sampling Fourier coefficients\n",
    "\n",
    "When we use a trainable ansatz above, it is possible that even with enough repetitions of the data-encoding Pauli rotation, the quantum model cannot fit the circuit, since the expressivity of quantum models also depends on the Fourier coefficients the model can create.\n",
    "\n",
    "Figure 5 in the paper shows Fourier coefficients from quantum models sampled from a model family defined by an ansatz for the trainable circuit block. For this we need a function that numerically computes the Fourier coefficients of a periodic function $f$ with period $2π$."
   ]
  },
  {
   "cell_type": "code",
   "execution_count": null,
   "metadata": {
    "id": "nDAVxmTBPRhZ"
   },
   "outputs": [],
   "source": [
    "def fourier_coefficients(f, K):\n",
    "    \"\"\"\n",
    "    Computes the first 2*K+1 Fourier coefficients of a 2*pi periodic function.\n",
    "    \"\"\"\n",
    "    n_coeffs = 2 * K + 1\n",
    "    t = np.linspace(0, 2 * np.pi, n_coeffs, endpoint=False)\n",
    "    y = np.fft.rfft(f(t)) / t.size\n",
    "    return y\n"
   ]
  },
  {
   "cell_type": "markdown",
   "metadata": {
    "id": "fa9vmsnnPfML"
   },
   "source": [
    "## Define your quantum model\n",
    "\n",
    "Now we need to define a quantum model. This could be any model, using a qubit or continuous-variable circuit, or one of the quantum models from above. We will use a slight derivation of the `parallel_qubit_model()` from above, this time using the `BasicEntanglerLayers` ansatz:"
   ]
  },
  {
   "cell_type": "code",
   "execution_count": null,
   "metadata": {
    "id": "FD-wd68zPeVx"
   },
   "outputs": [],
   "source": [
    "from pennylane.templates import BasicEntanglerLayers\n",
    "\n",
    "scaling = 1\n",
    "n_qubits = 4\n",
    "\n",
    "dev = qml.device('default.qubit', wires=n_qubits)\n",
    "\n",
    "def S(x):\n",
    "    \"\"\"Data encoding circuit block.\"\"\"\n",
    "    for w in range(n_qubits):\n",
    "        qml.RX(scaling * x, wires=w)\n",
    "\n",
    "def W(theta):\n",
    "    \"\"\"Trainable circuit block.\"\"\"\n",
    "    BasicEntanglerLayers(theta, wires=range(n_qubits))\n",
    "\n",
    "\n",
    "@qml.qnode(dev)\n",
    "def quantum_model(weights, x):\n",
    "\n",
    "    W(weights[0])\n",
    "    S(x)\n",
    "    W(weights[1])\n",
    "\n",
    "    return qml.expval(qml.PauliZ(wires=0))"
   ]
  },
  {
   "cell_type": "markdown",
   "metadata": {
    "id": "E5jw7zn5PucW"
   },
   "source": [
    "It will also be handy to define a function that samples different random weights of the correct size for the model."
   ]
  },
  {
   "cell_type": "code",
   "execution_count": null,
   "metadata": {
    "id": "dVmglKlbPtK4"
   },
   "outputs": [],
   "source": [
    "n_ansatz_layers = 1\n",
    "\n",
    "def random_weights():\n",
    "    return 2 * np.pi * np.random.random(size=(2, n_ansatz_layers, n_qubits))"
   ]
  },
  {
   "cell_type": "markdown",
   "metadata": {
    "id": "_1F3eTIlPx8W"
   },
   "source": [
    "Now we can compute the first few Fourier coefficients for samples from this model. The samples are created by randomly sampling different parameters using the `random_weights()` function."
   ]
  },
  {
   "cell_type": "code",
   "execution_count": null,
   "metadata": {
    "id": "cJkv-u5hPwe5"
   },
   "outputs": [],
   "source": [
    "n_coeffs = 5\n",
    "n_samples = 100\n",
    "\n",
    "\n",
    "coeffs = []\n",
    "for i in range(n_samples):\n",
    "\n",
    "    weights = random_weights()\n",
    "\n",
    "    def f(x):\n",
    "        return np.array([quantum_model(weights, x_) for x_ in x])\n",
    "\n",
    "    coeffs_sample = fourier_coefficients(f, n_coeffs)\n",
    "    coeffs.append(coeffs_sample)\n",
    "\n",
    "coeffs = np.array(coeffs)\n",
    "coeffs_real = np.real(coeffs)\n",
    "coeffs_imag = np.imag(coeffs)"
   ]
  },
  {
   "cell_type": "markdown",
   "metadata": {
    "id": "fKbybgSXP3pv"
   },
   "source": [
    "Let’s plot the real vs. the imaginary part of the coefficients. As a sanity check, the c0 coefficient should be real, and therefore have no contribution on the y-axis."
   ]
  },
  {
   "cell_type": "code",
   "execution_count": null,
   "metadata": {
    "colab": {
     "base_uri": "https://localhost:8080/",
     "height": 203
    },
    "id": "YAmFqK2VP2XL",
    "outputId": "be838ed5-3db9-4ed1-f6f9-c14a41d8939e"
   },
   "outputs": [],
   "source": [
    "n_coeffs = len(coeffs_real[0])\n",
    "\n",
    "fig, ax = plt.subplots(1, n_coeffs, figsize=(15, 4))\n",
    "\n",
    "for idx, ax_ in enumerate(ax):\n",
    "    ax_.set_title(r\"$c_{}$\".format(idx))\n",
    "    ax_.scatter(coeffs_real[:, idx], coeffs_imag[:, idx], s=20,\n",
    "                facecolor='white', edgecolor='red')\n",
    "    ax_.set_aspect(\"equal\")\n",
    "    ax_.set_ylim(-1, 1)\n",
    "    ax_.set_xlim(-1, 1)\n",
    "\n",
    "\n",
    "plt.tight_layout(pad=0.5)\n",
    "plt.show();"
   ]
  },
  {
   "cell_type": "markdown",
   "metadata": {
    "id": "TBmZtwPrP8O8"
   },
   "source": [
    "Playing around with different quantum models, you will find that some quantum models create different distributions over the coefficients than others. For example BasicEntanglingLayers (with the default Pauli-X rotation) seems to have a structure that forces the even Fourier coefficients to zero, while StronglyEntanglingLayers will have a non-zero variance for all supported coefficients.\n",
    "\n",
    "Note also how the variance of the distribution decreases for growing orders of the coefficients—an effect linked to the convergence of a Fourier series.\n"
   ]
  },
  {
   "cell_type": "code",
   "execution_count": null,
   "metadata": {
    "id": "I_RUYLmSP6qx"
   },
   "outputs": [],
   "source": [
    "var = 2\n",
    "n_ansatz_layers = 1\n",
    "dev_cv = qml.device('default.gaussian', wires=1)\n",
    "\n",
    "def S(x):\n",
    "    qml.Rotation(x, wires=0)\n",
    "\n",
    "def W(theta):\n",
    "    \"\"\"Trainable circuit block.\"\"\"\n",
    "    for r_ in range(n_ansatz_layers):\n",
    "        qml.Displacement(theta[0], theta[1], wires=0)\n",
    "        qml.Squeezing(theta[2], theta[3], wires=0)\n",
    "\n",
    "@qml.qnode(dev_cv)\n",
    "def quantum_model(weights, x):\n",
    "    W(weights[0])\n",
    "    S(x)\n",
    "    W(weights[1])\n",
    "    return qml.expval(qml.NumberOperator(wires=0))\n",
    "\n",
    "def random_weights():\n",
    "    return np.random.normal(size=(2, 5 * n_ansatz_layers), loc=0, scale=var)"
   ]
  },
  {
   "cell_type": "markdown",
   "metadata": {
    "id": "r1RRolqdQAaP"
   },
   "source": [
    "## Continuous-variable model\n",
    "\n",
    "The paper mentions that a phase rotation in continuous-variable quantum computing has a spectrum that supports all Fourier frequecies. To play with this model, we finally show you the code for a continuous-variable circuit. For example, to see its Fourier coefficients run the cell below, and then re-run the two cells above."
   ]
  },
  {
   "cell_type": "code",
   "execution_count": null,
   "metadata": {},
   "outputs": [],
   "source": [
    "#!pip install pennylane-sf"
   ]
  },
  {
   "cell_type": "code",
   "execution_count": null,
   "metadata": {},
   "outputs": [],
   "source": [
    "import numpy as np\n",
    "import pennylane as qml\n",
    "\n",
    "var = 2\n",
    "n_ansatz_layers = 1\n",
    "dev_cv = qml.device('strawberryfields.fock', wires=1, cutoff_dim=10)\n",
    "\n",
    "def S(x):\n",
    "    qml.Displacement(x, 0, wires=0)\n",
    "\n",
    "def W(theta):\n",
    "    \"\"\"Trainable circuit block.\"\"\"\n",
    "    for r_ in range(n_ansatz_layers):\n",
    "        qml.Squeezing(theta[0], theta[1], wires=0)\n",
    "        qml.Displacement(theta[2], theta[3], wires=0)\n",
    "\n",
    "@qml.qnode(dev_cv)\n",
    "def quantum_model(weights, x):\n",
    "    W(weights[0])\n",
    "    S(x)\n",
    "    W(weights[1])\n",
    "    return qml.expval(qml.X(0))\n",
    "\n",
    "def random_weights():\n",
    "    return np.random.normal(size=(2, 4 * n_ansatz_layers), loc=0, scale=var)\n"
   ]
  },
  {
   "cell_type": "code",
   "execution_count": null,
   "metadata": {
    "id": "XNBR89dGQTif"
   },
   "outputs": [],
   "source": [
    "n_coeffs = 5\n",
    "n_samples = 100\n",
    "\n",
    "\n",
    "coeffs = []\n",
    "for i in range(n_samples):\n",
    "\n",
    "    weights = random_weights()\n",
    "\n",
    "    def f(x):\n",
    "        return np.array([quantum_model(weights, x_) for x_ in x])\n",
    "\n",
    "    coeffs_sample = fourier_coefficients(f, n_coeffs)\n",
    "    coeffs.append(coeffs_sample)\n",
    "\n",
    "coeffs = np.array(coeffs)\n",
    "coeffs_real = np.real(coeffs)\n",
    "coeffs_imag = np.imag(coeffs)"
   ]
  },
  {
   "cell_type": "code",
   "execution_count": null,
   "metadata": {
    "colab": {
     "base_uri": "https://localhost:8080/",
     "height": 203
    },
    "id": "TECR70_9QT9Y",
    "outputId": "955ad359-09c1-4f1e-ad6f-48105b2f4690"
   },
   "outputs": [],
   "source": [
    "n_coeffs = len(coeffs_real[0])\n",
    "\n",
    "fig, ax = plt.subplots(1, n_coeffs, figsize=(15, 4))\n",
    "\n",
    "for idx, ax_ in enumerate(ax):\n",
    "    ax_.set_title(r\"$c_{}$\".format(idx))\n",
    "    ax_.scatter(coeffs_real[:, idx], coeffs_imag[:, idx], s=20,\n",
    "                facecolor='white', edgecolor='red')\n",
    "    ax_.set_aspect(\"equal\")\n",
    "    ax_.set_ylim(-1, 1)\n",
    "    ax_.set_xlim(-1, 1)\n",
    "\n",
    "\n",
    "plt.tight_layout(pad=0.5)\n",
    "plt.show();"
   ]
  }
 ],
 "metadata": {
  "colab": {
   "provenance": []
  },
  "kernelspec": {
   "display_name": "Python 3 (ipykernel)",
   "language": "python",
   "name": "python3"
  },
  "language_info": {
   "codemirror_mode": {
    "name": "ipython",
    "version": 3
   },
   "file_extension": ".py",
   "mimetype": "text/x-python",
   "name": "python",
   "nbconvert_exporter": "python",
   "pygments_lexer": "ipython3",
   "version": "3.9.19"
  }
 },
 "nbformat": 4,
 "nbformat_minor": 4
}
