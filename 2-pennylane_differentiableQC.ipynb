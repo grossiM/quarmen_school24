{
 "cells": [
  {
   "cell_type": "markdown",
   "metadata": {
    "slideshow": {
     "slide_type": "slide"
    }
   },
   "source": [
    "# Quantum differentiable programming and QML intro with Pennylane\n",
    "\n",
    "This notebook presentation is part of my lecture material for the QUARMEN master (QUAntum Research Master Education Network): a two-year international master’s programme in physics, specialized in Quantum Science and Technology. It aims at training students in key concepts and technologies for quantum devices and information. \n",
    "\n",
    "This lecture contains a general introduction to parameterized quantum circuits, calculation of gradients and the Pennylane software platform.\n",
    "\n",
    "**Michele Grossi**, Coordinator of Quantum Computing and Algorithm Competence Center @ CERN \\\n",
    "Last updated: 03 apr 24"
   ]
  },
  {
   "cell_type": "markdown",
   "metadata": {
    "slideshow": {
     "slide_type": "slide"
    }
   },
   "source": [
    "## Preliminary theory"
   ]
  },
  {
   "cell_type": "markdown",
   "metadata": {
    "slideshow": {
     "slide_type": "slide"
    }
   },
   "source": [
    "### What's a quantum algorithm?\n",
    "\n",
    "Quantum algorithms can in general be described as a specific unitary transformations \n",
    "$$U:\\mathcal{H} \\to \\mathcal{H}$$ \n",
    "acting on a quantum register of $q$ qubits, i.e. $\\mathcal{H} = (\\mathbb {C} ^2)^{\\otimes q}$.\n",
    "After performing $U$, the solution needs to be extracted via *basis state measurement*.\n",
    "\n",
    "Many of the algorithms described up to now rely on *precisely defining* $U$ in terms of certain set of  **fixed, elementary operations**. To give an example, the *Quantum Fourier Transform* (QFT), which is defined as\n",
    "\n",
    "$$|n\\rangle \\to \\frac{1}{2^q}\\sum_i e^{2\\pi inm/2^q}|m\\rangle \\;\\;\\text{where}\\;\\; 0 \\leq m,n \\leq 2^q$$\n",
    "\n",
    "relies on the appropriate composition of Hadamard gates ($H$), control phases ($cR_k$) and swap gates."
   ]
  },
  {
   "cell_type": "markdown",
   "metadata": {
    "slideshow": {
     "slide_type": "subslide"
    }
   },
   "source": [
    "<img src=\"https://www.researchgate.net/publication/364442891/figure/fig1/AS:11431281091064985@1666286943919/A-4-qubit-example-of-the-QFT-circuit-ie-Fn-with-n-4-consisting-of-two-parts-Qn-and.png\" />\n",
    "\n",
    "At the end, the quantum system is in a state whose computational basis amplitudes are precisely the *Discrete Fourier Transform* (DFT) of the amplitudes of the initial states, and this happens *from the begininnig*, i.e. already at the first circuit execution."
   ]
  },
  {
   "cell_type": "markdown",
   "metadata": {
    "slideshow": {
     "slide_type": "slide"
    }
   },
   "source": [
    "### A different (variational) perspective\n",
    "\n",
    "A different approach is that of *Parameterized Quantum Circuits* (PQC). Here the *general structure* is defined, which is generally composed of independent **parameterized rotations** and **fixed entangling gates**, but **not** the numerical value of the parameters.\n",
    "\n",
    "*Variational Quantum Algorithms* (VQA) or PQC are hybrid algorithm that use a classical optimizer to train a parameterized quantum circuit to approximate solutions for a given problem. You will find this family of architectures for a lot of application in different fields like: Chemistry, Physics, Finance, Machine Learning and more.\n",
    "\n",
    "VQA typically need fewer gates and qubits. In turn, they are more resistant to noise and are well suited to handle near-term quantum computer constraints.\n",
    "VQA's are typically iterative. Each iteration involves both quantum and classical processing. \n",
    "\n",
    "Output (a measurement) from one iteration is sent to the classical optimizer which generates input (a parameter) for the next iteration:\n",
    "\n",
    "<div>\n",
    "<img src=\"qva_loop.png\" width=\"600\" align=\"left\"/>\n",
    "</div>\n"
   ]
  },
  {
   "cell_type": "markdown",
   "metadata": {},
   "source": [
    "\n",
    "More specifically, we will have:\n",
    "\n",
    "* **Parameterized rotations**: A parameterized rotation is a gate which depends on a parameter $\\theta \\in [-\\pi,\\pi]$ and have the from $R_G(\\theta) = e^{i \\theta G}$, where $G=G^\\dagger$ is the *generator* of the rotation. In general it can act on any number of qubit. Common examples include $R_\\sigma(\\theta)$, where $\\sigma = X,Y$ or $Z$ is a single-qubit Pauli matrix.\n",
    "\n",
    "* **Entangling gates**: An entangling gate is a fixed, non-separable unitary transformation $W$ that has the purpose of introducing interactions between qubits. Common examples include CNOT, SWAP and CPhase gates. "
   ]
  },
  {
   "cell_type": "markdown",
   "metadata": {
    "slideshow": {
     "slide_type": "subslide"
    }
   },
   "source": [
    "Both these types of gate are usually composed in a layered fashion, e.g. $U(\\theta) = \\prod_{l=1}^L \\left[\\bigotimes_k R_{G_k}(\\theta_{kl})\\right] W_l$. In quantum computing jargon, these type of circuits are called *ansatz*.\n",
    "\n",
    "Example:\n",
    "\n",
    "<div>\n",
    "<img src=\"4qubits-ansatz.png\" width=\"600\" align=\"left\" alt=\"Approximate 2-design ansatz (4 qubits)\"/>\n",
    "</div>\n",
    "\n"
   ]
  },
  {
   "cell_type": "markdown",
   "metadata": {},
   "source": [
    "Here, the parameters are chosen *randomly*, which means that at the first execution of the circuit, we do not have the solution to our problem yet, but we have to first find the correct parameters, and that's done by optimization of a given **cost function**.\n",
    "\n",
    "If this sounds like it's very similar to machine learning, it's because it is!"
   ]
  },
  {
   "cell_type": "markdown",
   "metadata": {
    "slideshow": {
     "slide_type": "slide"
    }
   },
   "source": [
    "### Cost functions and gradients\n",
    "\n",
    "It is very common in quantum computing to use *expectation values* of observables as cost functions. \n",
    "\n",
    "Take the example of *ground state* energy estimation: given a certain Hamiltonian $H$, the task is to find the lowest eigenvalue. \n",
    "This can be shown to be equivalent to minimizing the expectation value \n",
    "\n",
    "$$E_\\theta = \\langle \\psi_\\theta |H | \\psi_\\theta\\rangle  \\;\\;\\; \\text{with} \\;\\;\\; |\\psi_\\theta \\rangle = U(\\theta)|\\psi_0 \\rangle $$\n",
    "\n",
    "which can be done with quantum computing using a PQC and optimizing its parameters.\n",
    "\n",
    "**Q: Given a certain ansatz, how to optimize the parameters?**\n",
    "\n",
    "The most popular answer is to use **gradient-based** optimization schemes, which include Gradient Descent, Adam, and so on. This requires the non trivial ability to compute *gradients of quantum circuits*. In the literature, many techinques have been developed to solve this task. Among others we have:\n",
    "\n",
    "* **Finite difference methods**: These are versatile techniques that come from calculus and apply to general functions (not only quantum circuits), but suffer from truncation errors and are not always accurate.\n",
    "\n",
    "* **Parameter-shif rules**: These are the most commonly used techniques, that exploit the structure of $R_{G_k}(\\theta)$ rotations to estimate *exact* gradients. However, this requires evaluation of 2 distinct circuits per parameter.\n",
    "\n",
    "* **Hadamard test methods**: These type of techniques employ Hadamard tests to compute gradients. This is also exact and requires evaluation of only 1 circuit, but needs an *ancillary* qubit to be performed."
   ]
  },
  {
   "cell_type": "markdown",
   "metadata": {},
   "source": [
    "### Why Pennylane?\n",
    "\n",
    "While these methods are great news for quantum computing practitioners, the computational cost of performing them is considerable, especially when handling a large number of parameters, since it requires running order $\\sim O(p)$ circuits for each step, where $p$ is the number of parameters.\n",
    "\n",
    "The problem becomes even worse when the circuits need to be *simulated classically*. In fact, very powerful frameworks such as Qiksit struggle with simulation of variational methods precisely for this reason.\n",
    "\n",
    "**Q: But wait, what about classical models, don't they have the same issue?**\n",
    "\n",
    "Of course, handling large models is always challenging, but classically there exist several methods that are very efficient and highly optimized, that go under the name of *automatic differentiation*. Pennylane's core feature is the ability to compute gradients of *simulated* parameterized quantum circuits in a way that is compatible with such techniques (e.g. *backpropagation*). Pennylane thus extends the automatic differentiation algorithms common in optimization and machine learning to include quantum and hybrid computations."
   ]
  },
  {
   "cell_type": "markdown",
   "metadata": {
    "slideshow": {
     "slide_type": "slide"
    }
   },
   "source": [
    "## Hands-on with Pennylane"
   ]
  },
  {
   "cell_type": "markdown",
   "metadata": {
    "slideshow": {
     "slide_type": "slide"
    }
   },
   "source": [
    "In order to be able to use the great features Pennylane offers, one needs to understand how this new software platform works, and how to take the best from it. The most valuable source of information is of course the official API guide (https://docs.pennylane.ai/en/stable/code/qml.html), which contains documentation, tutorials and more.\n",
    "\n",
    "In this lecture, we'll go through the main concepts, necessary to succesfully build and optimize a simple variational circuit. In particular we will learn about:\n",
    "\n",
    "* quantum functions (i.e. circuits)\n",
    "* observables\n",
    "* devices and quantum nodes\n",
    "* optimization\n"
   ]
  },
  {
   "cell_type": "markdown",
   "metadata": {},
   "source": [
    "#### First steps\n",
    "\n",
    "The first step is to install and import the pennylane package. The standard import is `qml`.\n",
    "\n",
    "Since it will be useful to use numpy primitives and functions throught the tutorial, we will import numpy as well. \n",
    "\n",
    "Note however that is **crucial** to import numpy directly *from* pennylane. This is important to make sure that automatic differentiation works properly."
   ]
  },
  {
   "cell_type": "code",
   "execution_count": 1,
   "metadata": {},
   "outputs": [],
   "source": [
    "# Install Pennylane\n",
    "#!pip install pennylane\n",
    "\n",
    "# Import it\n",
    "import pennylane as qml\n",
    "from pennylane import numpy as np"
   ]
  },
  {
   "cell_type": "markdown",
   "metadata": {},
   "source": [
    "#### Circuits vs quantum functions\n",
    "\n",
    "In most quantum SDKs there are dedicated primitives that implement *Quantum circuits*. You may recall that indeed, this was the case for IBM's Qiskit, where quantum algorithms are realized as specific circuit objects:"
   ]
  },
  {
   "cell_type": "code",
   "execution_count": 2,
   "metadata": {},
   "outputs": [
    {
     "data": {
      "image/png": "[encoded data removed]",
      "text/plain": [
       "<Figure size 914.831x284.278 with 1 Axes>"
      ]
     },
     "execution_count": 2,
     "metadata": {},
     "output_type": "execute_result"
    }
   ],
   "source": [
    "from qiskit import QuantumCircuit\n",
    "from qiskit.quantum_info import SparsePauliOp\n",
    "from qiskit.transpiler.preset_passmanagers import generate_preset_pass_manager\n",
    "from qiskit_ibm_runtime import QiskitRuntimeService, EstimatorV2 as Estimator\n",
    "\n",
    "#import numpy as np\n",
    "thetas = np.array([0.1, 0.3, -1.6])\n",
    "\n",
    "qiskit_circ = QuantumCircuit(2)\n",
    "\n",
    "for t in thetas:\n",
    "    qiskit_circ.x(0)\n",
    "    qiskit_circ.ry(t.item(), 1)\n",
    "    qiskit_circ.cz(0, 1)\n",
    "\n",
    "qiskit_circ.measure_all()\n",
    "\n",
    "qiskit_circ.draw(\"mpl\")"
   ]
  },
  {
   "cell_type": "markdown",
   "metadata": {},
   "source": [
    "While this approach is straight-forward to understand, makes handling parameterizations more cumbersome than really needed. What if I want to change the numerical value of $\\theta$? This would either require the creation of a new circuit, or usage of more complicated abstractions, which can make our code hard to develop.  "
   ]
  },
  {
   "cell_type": "markdown",
   "metadata": {},
   "source": [
    "A more natural approach for this specific use-case is to implement circuits as special kinds of **functions**, which are called quantum functions. In particular, each parameterized circuit $U(\\cdot)$ is represented by a function the acts on parameter space $\\Theta = [-\\pi,\\pi]^{p}$ and returns the circuit output, which in general is a collection of expectation values of observables $\\{O_i\\}_{i=1}^n$.\n",
    "\n",
    "$$f_{U, \\psi_0} : \\Theta \\to \\mathbb {R}^n$$\n",
    "$$ \\theta \\in \\Theta \\to \\left[\\langle \\psi_0 |U^\\dagger (\\theta) O_1 U(\\theta)|\\psi_0\\rangle, ... , \\langle \\psi_0 |U^\\dagger (\\theta) O_n U(\\theta)|\\psi_0\\rangle\\right] \\in \\mathbb {R}^n$$\n",
    "\n",
    "This framework can be generalized to include also other types of circuit outputs, for instance computational basis measurements, or the quantum statevector itself (for simulations). In pennylane, quantum functions are implemented simply as Python functions, and evaluation of quantum functions are linked to the estimation of the circuit output specified during the definition.\n",
    "\n",
    "Writing a quantum function is as simple as this:"
   ]
  },
  {
   "cell_type": "code",
   "execution_count": 3,
   "metadata": {},
   "outputs": [
    {
     "data": {
      "image/png": "[encoded data removed]",
      "text/plain": [
       "<Figure size 900x300 with 1 Axes>"
      ]
     },
     "metadata": {},
     "output_type": "display_data"
    }
   ],
   "source": [
    "# The parameters of the circuit are specified as the input of the function\n",
    "def circ_fn(theta):\n",
    "\n",
    "    #By default, the initial state is |0>, just as in Qiskit\n",
    "\n",
    "    # Gates, operations, or even other quantum functions called here will be part of circ\n",
    "    # Cycles and other control flow structures are allowed, as long as they do not depend \n",
    "    # on the value of the parameters\n",
    "    for t in theta:\n",
    "        qml.PauliX(0)\n",
    "        qml.RY(t, 1)\n",
    "        qml.CZ([0,1])\n",
    "\n",
    "    # The output type is defined with the return statement. In this case computational basis measurement is specified.\n",
    "    return qml.probs()\n",
    "\n",
    "_ = qml.draw_mpl(circ_fn, decimals=2)(theta_value)"
   ]
  },
  {
   "cell_type": "markdown",
   "metadata": {},
   "source": [
    "In pennylane, quantum functions are always *differentiable*, and gradients of quantum functions can be computed both by automatic differentiation or fully quantum methods. Pennylane offers a wide variety of gates, which you can discover at https://docs.pennylane.ai/en/stable/code/qml.html#classes"
   ]
  },
  {
   "cell_type": "markdown",
   "metadata": {},
   "source": [
    "#### E.1\n",
    "\n",
    "Create and display a quantum fuction for an ansatz that includes at least a CNOT, two Z rotations and one hadamard gate, and return the marginal probabilities for each qubit.\n",
    "\n",
    "(*Hint*: The marginal proability of a qubit can be obtain by specifying it to `qml.probs`, i.e. `qml.probs(0)` represents the marginal probability of the zeroth qubit)"
   ]
  },
  {
   "cell_type": "code",
   "execution_count": null,
   "metadata": {},
   "outputs": [],
   "source": []
  },
  {
   "cell_type": "markdown",
   "metadata": {},
   "source": [
    "#### Observables\n",
    "\n",
    "In quantum theory, an observable is defined as an operator $O=O^\\dagger$ acting on the system's Hilbert space $\\mathcal{H}$. Due to the exponential dimension of $\\mathcal{H}$ ($\\text{dim}(\\mathcal{H})=2^q$), describing $O$ is in general quite demanding. \n",
    "\n",
    "However, for simple enough observables, there exist very compact descriptions that can be used to define it:\n",
    "\n",
    "* **Pauli decomposition**: It is common to define observables as linear combination of tensor produts of Pauli operators $\\sigma_k$ acting on single qubits. This is especially true for Hamiltonians, that often take the form $$ H = \\sum_i c_i P_i \\;\\;\\; \\text{where} \\;\\;\\;\\; P_i = \\bigotimes_k \\sigma^{(k)}_{i_k}$$\n",
    "(In fact, every operator acting on a quantum register can  be decomposed in this way, but this strategy can incurr in exponential number of terms to keep track.)\n",
    "\n",
    "* **Hermitian matrix**: Given a basis, each observable is represented by a Hermitian matrix, which fully characterizes $O$. However this type of description is suited only for small sistems, i.e. few qubits.\n",
    "\n",
    "Pennylane allows to use both descriptions to characterize an observable. As an example, let's  implement\n",
    "$$O = 1.7 X^{(0)}\\otimes Y^{(1)} - 0.2 Z^{(0)}\\otimes Z^{(1)}$$"
   ]
  },
  {
   "cell_type": "code",
   "execution_count": 4,
   "metadata": {},
   "outputs": [],
   "source": [
    "# Pauli decomposition\n",
    "\n",
    "# First we need to define the list of coefficients of the linear combination\n",
    "cs = [1.7, -0.2]\n",
    "\n",
    "# Then we need to implement the pauli strings\n",
    "# @ indicates the tensor products\n",
    "os = [qml.PauliX(0)@qml.PauliY(1), qml.PauliZ(0)@qml.PauliZ(1)]\n",
    "\n",
    "O_ham = qml.Hamiltonian(cs, os)\n",
    "\n",
    "# Hermitian matrix\n",
    "\n",
    "O_mat = [[0.2,0,0,-1.7j],\n",
    "         [0,-0.2,1.7j,0],\n",
    "         [0,-1.7j,-0.2,0],\n",
    "         [1.7j,0,0,0.2]]\n",
    "\n",
    "O_her = qml.Hermitian(O_mat, wires=(0,1)) #Note: qubirs in Pennylane are called \"quantum wires\""
   ]
  },
  {
   "cell_type": "markdown",
   "metadata": {},
   "source": [
    "Both of them can be used as the output of a quantum function, which means that the information extracted from running the circuit, will be automatically used to compute the expectation values of those observable!"
   ]
  },
  {
   "cell_type": "code",
   "execution_count": 5,
   "metadata": {},
   "outputs": [],
   "source": [
    "def obs_circ_fn(theta):\n",
    "\n",
    "    for t in theta:\n",
    "        qml.PauliX(0)\n",
    "        qml.RY(t, 1)\n",
    "        qml.CZ([0,1])\n",
    "        \n",
    "    return qml.expval(O_ham)"
   ]
  },
  {
   "cell_type": "markdown",
   "metadata": {},
   "source": [
    "#### E.2\n",
    "Write a function that, for any given number of qubits $W$ (quantum wires), outputs the observable $O=\\bigotimes_{k=0}^{W-1} \\sigma_Z^{(k)}$."
   ]
  },
  {
   "cell_type": "code",
   "execution_count": null,
   "metadata": {},
   "outputs": [],
   "source": []
  },
  {
   "cell_type": "markdown",
   "metadata": {},
   "source": [
    "#### Devices and Quantum Nodes\n",
    "\n",
    "Quantum functions alone, just as quantum circuits, are only an abstract description of the quantum algorithm, and are not enough to acutally perform computations. For that, we need *devices*. In pennylane, a device represents an entity able to execute quantum functions, be it a simulator or a real quantum device.\n",
    "\n",
    "Thanks to the large amout of interfaces and plugins that this environment provides (https://pennylane.ai/plugins/) code written in pennylane can run almost on all quantum simulator (ideal, noisy, tensor-network based etc..) and even real devices (including IBM public machines!). Of course, each device has its own peculiarity and must be configured with care. \n",
    "\n",
    "Today we'll focus on the simplest one, i.e. `deafult.qubit`."
   ]
  },
  {
   "cell_type": "code",
   "execution_count": 6,
   "metadata": {},
   "outputs": [],
   "source": [
    "# Each device is created by calling qml.device, and specifying its device name, toghether with all required properties\n",
    "\n",
    "dev = qml.device(\"default.qubit\", wires=2, shots=None) # If no shots are specified, the simulation will be exact "
   ]
  },
  {
   "cell_type": "markdown",
   "metadata": {},
   "source": [
    "In order to run, the device and the quantum function must be joined to form a so called \"Quantum Node\" or \"QNode\". QNodes are the most important objects in pennylane, since they are responsible of handling differentiation of quantum functions.\n",
    "\n",
    "In fact, when creating a QNode we are able to specify (among others) two key components in the simulation of PQCs:\n",
    "* **Interface**, i.e. the classical software used to automatically differentiate simulated quantum functions (e.g. autograd, jax, pytorch, ecc..)\n",
    "* **Method**, i.e. the algorithm to perform the differentiation itself. These include classical methods such as *backpropagation*, but also purely quantum ones (that would run also on real devices) such as *parameter shift rule*."
   ]
  },
  {
   "cell_type": "code",
   "execution_count": 7,
   "metadata": {},
   "outputs": [
    {
     "data": {
      "text/plain": [
       "tensor(0.03399343, requires_grad=True)"
      ]
     },
     "execution_count": 7,
     "metadata": {},
     "output_type": "execute_result"
    }
   ],
   "source": [
    "theta_value = np.array([0.1, 0.3, -1.6], requires_grad=True)\n",
    "# In this case, we use autograd with backpropagation. If not provided, both interface and differentiation method \n",
    "# will be chosen automatically\n",
    "obs_qnode = qml.QNode(obs_circ_fn, dev, interface=\"autograd\", diff_method=\"backprop\")\n",
    "\n",
    "# Finally execute the function\n",
    "obs_qnode(theta_value)"
   ]
  },
  {
   "cell_type": "markdown",
   "metadata": {},
   "source": [
    "Once we have the qnode, we can easily and quickly compute parameter gradients"
   ]
  },
  {
   "cell_type": "code",
   "execution_count": 8,
   "metadata": {},
   "outputs": [
    {
     "data": {
      "text/plain": [
       "tensor([ 0.1,  0.3, -1.6], requires_grad=True)"
      ]
     },
     "execution_count": 8,
     "metadata": {},
     "output_type": "execute_result"
    }
   ],
   "source": [
    "theta_value"
   ]
  },
  {
   "cell_type": "code",
   "execution_count": 9,
   "metadata": {},
   "outputs": [
    {
     "data": {
      "text/plain": [
       "array([-0.19708995,  0.19708995,  0.19708995])"
      ]
     },
     "execution_count": 9,
     "metadata": {},
     "output_type": "execute_result"
    }
   ],
   "source": [
    "# The qml.grad utility returns a function that lets us access the gradients\n",
    "gradient = qml.grad(obs_qnode)\n",
    "\n",
    "gradient(theta_value)"
   ]
  },
  {
   "cell_type": "markdown",
   "metadata": {},
   "source": [
    "Since the concept of qnode and quantum function are so close to each other, and often one needs to create both at the same time, Pennylane offers a quick way of doing so, using the `qml.qnode` *decorator*."
   ]
  },
  {
   "cell_type": "code",
   "execution_count": null,
   "metadata": {},
   "outputs": [],
   "source": [
    "@qml.qnode(dev, interface=\"autograd\", diff_method=\"backprop\")\n",
    "def decorated_qfun(theta):\n",
    "\n",
    "    for t in theta:\n",
    "        qml.PauliX(0)\n",
    "        qml.RY(t, 1)\n",
    "        qml.CZ([0,1])\n",
    "        \n",
    "    return qml.expval(O_ham)\n",
    "\n",
    "decorated_qfun(theta_value)"
   ]
  },
  {
   "cell_type": "markdown",
   "metadata": {},
   "source": [
    "#### Optimization\n",
    "\n",
    "Almost everything is ready for optimizing our first PQC, we are only left with the choice of the optimizer. Pennylane offers many optimizers (https://docs.pennylane.ai/en/stable/introduction/interfaces.html) which can be used to optimize any quantum node. \n",
    "\n",
    "Moreover, thanks to the automatic differentiation capabilities, it supports optimizing also *functions* of qnodes."
   ]
  },
  {
   "cell_type": "code",
   "execution_count": null,
   "metadata": {},
   "outputs": [],
   "source": [
    "# Simple optimization loop\n",
    "\n",
    "n_iter = 40    # Number of steps in the optimization\n",
    "stepsize = 0.2 # Stepsize\n",
    "\n",
    "opt = qml.GradientDescentOptimizer(stepsize)\n",
    "\n",
    "# Initial parameters\n",
    "theta = 2*np.pi*np.random.random(3)\n",
    "\n",
    "history = []\n",
    "for it in range(n_iter):\n",
    "\n",
    "    # Apply a single optimization step. Grandient calculation is hidden here!\n",
    "    theta, c = opt.step_and_cost(decorated_qfun, theta)\n",
    "    history.append(c)\n",
    "    \n",
    "    if not it%5: print(f\"Iteration: {it}\\t Cost: {c}\")"
   ]
  },
  {
   "cell_type": "code",
   "execution_count": null,
   "metadata": {},
   "outputs": [],
   "source": [
    "import matplotlib.pyplot as plt\n",
    "\n",
    "plt.title(\"Optimization profile\")\n",
    "plt.xlabel(\"Iterations\")\n",
    "plt.ylabel(\"Cost Function\")\n",
    "\n",
    "plt.plot(history, \"-o\")\n",
    "plt.show()"
   ]
  },
  {
   "cell_type": "markdown",
   "metadata": {},
   "source": [
    "# Quantum Gradients with BackPropagation\n",
    "\n",
    "Any quantum device, whether a hardware device or a simulator can be trained using the **parameter-shift rule**\n",
    "\n",
    "-----\n",
    "-----\n",
    "\n",
    "### Parameter-shift rule\n",
    "\n",
    "The output of a variational circuit (i.e the expectation of an observable) can be written as **quantum function** $f(\\theta)$ parameterized by $\\theta = \\theta_1 , \\theta_2...$\n",
    "\n",
    "The partial derivative of $f(\\theta)$ can in many cases be expressed as a linear combination of other quantum functions. Importantly, these other quantum functions typically use the same circuit, differing only in the shift of the argument. This means that partial derivatives of a variational circuit can be computed by using the same variational circuit architecture.\n",
    "\n",
    "Recipes of how to get partial derivatives by evaluated parameter-shifted instances of a variational circuit are called parameter-shift rules, and have been first introduced to quantum machine learning in [Mitarai et al. (2018)](https://arxiv.org/abs/1803.00745), and extended in [Schuld et al. (2018)](https://arxiv.org/abs/1811.11184).\n",
    "\n",
    "\n",
    "\n",
    "<img src=\"https://pennylane.ai/static/f3aa82b497cd5cad346bca8bb8f783f1/6244b/gradients.png\" />\n",
    "\n",
    "Making a rough analogy to classically computable functions, this is similar to how the derivative of the function $f(x) = \\sin(x)$ is identical to $\\frac{1}{2} \\sin(x +\\frac{\\pi}{2}) - \\frac{1}{2} \\sin(x - \\frac{\\pi}{2})$.\n",
    "\n",
    "So the same underlying algorithm can be reused to compute both $\\sin(x)$ and its derivative by evaluating at $x \\pm \\frac{\\pi}{2}$. This inituition holds for many quantum functions of interest :  \n",
    "\n",
    "*the same circuit can be used to compute both the quantum function and the gradient of the quantum function.*"
   ]
  },
  {
   "cell_type": "markdown",
   "metadata": {},
   "source": [
    "## A more technical explaination\n",
    "\n",
    "Quantum Circuits are specified by sequence of gates. The unitary transformation carried out by the circuit thus be broken down into a product of unitaries:\n",
    "\n",
    "$$U(x; \\theta) = U_N(\\theta_{N}) U_{N-1}(\\theta_{N-1}) \\cdots U_i(\\theta_i) \\cdots U_1(\\theta_1) U_0(x).$$\n",
    "\n",
    "Each of these gates is unitary, and therefore must have the form $U_{j}(\\gamma_j)=\\exp{(i\\gamma_j H_j)}$ where $H_j$ is the Hermitian operator which generates the gate and $\\gamma_j$ is the gate parameter.\n",
    "\n",
    "\n",
    "\n"
   ]
  },
  {
   "cell_type": "markdown",
   "metadata": {},
   "source": [
    "## A single Parameterised gate\n",
    "\n",
    "Let us single out a single parameter $\\theta_i$ and its associated gate $U_i(\\theta_i)$, For simplicity we remove all gates except $U_i(\\theta)$ and $U_o(x)$ for the moment. In this case, we have a simplified quantum circuit function\n",
    "\n",
    "$$f(x; \\theta_i) = \\langle 0 | U_0^\\dagger(x)U_i^\\dagger(\\theta_i)\\hat{B}U_i(\\theta_i)U_0(x) | 0 \\rangle = \\langle x | U_i^\\dagger(\\theta_i)\\hat{B}U_i(\\theta_i) | x \\rangle.$$\n",
    "\n",
    "For convenience, we rewrite the unitary conjugation as a linear transformation $\\mathcal{M}_{\\theta_i}$ acting on the operator $\\hat{B}$\n",
    "\n",
    "$$U_i^\\dagger(\\theta_i)\\hat{B}U_i(\\theta_i) = \\mathcal{M}_{\\theta_i}(\\hat{B}).$$\n",
    "\n",
    "The transformation $\\mathcal{M}_{\\theta_i}$ , depends smoothly on the parameter $\\theta_i$, so this qunatum function will have a well-defined gardient:\n",
    "\n",
    "$$\\nabla_{\\theta_i}f(x; \\theta_i) = \\langle x | \\nabla_{\\theta_i}\\mathcal{M}_{\\theta_i}(\\hat{B}) | x \\rangle \\in \\mathbb{R}.$$\n",
    "\n",
    "The key insight is that we can, in many cases of interest, express this gradient as a linear combination of the same transformation $\\mathcal{M}$, but with different parameters. Namely,\n",
    "\n",
    "$$\\nabla_{\\theta_i}\\mathcal{M}_{\\theta_i}(\\hat{B}) = c[\\mathcal{M}_{\\theta_i + s}(\\hat{B}) - \\mathcal{M}_{\\theta_i - s}(\\hat{B})],$$\n",
    "\n",
    "where the multiplier $c$ and the shift $s$ are determined completely by the type of transformation $\\mathcal{M}$ and independent of the value of $\\theta_i$\n",
    "\n",
    "\n",
    "\n"
   ]
  },
  {
   "cell_type": "markdown",
   "metadata": {},
   "source": [
    "## Multiple Parameterized Gates\n",
    "\n",
    "To complete the story, we now go back to the case where there are many gates in the circuit. We can absorb any gates applied before gate i into the initial state:\n",
    "\n",
    "$$|\\psi_{i-1}\\rangle = U_{i-1}(\\theta_{i-1}) \\cdots U_{1}(\\theta_{1})U_{0}(x)|0\\rangle$$\n",
    "\n",
    "Similarly, any gates applied after gate $i$ are combined with the observable $\\hat{B}$:\n",
    "\n",
    "$$\\hat{B}_{i+1} = U_{N}^\\dagger(\\theta_{N}) \\cdots U_{i+1}^\\dagger(\\theta_{i+1}) \\hat{B} U_{i+1}(\\theta_{i+1}) \\cdots U_{N}(\\theta_{N}) $$\n",
    "\n",
    "With this simplification, the quantum circuit function becomes\n",
    "\n",
    "$$ f(x; \\theta) = \\langle \\psi_{i-1} | U_i^\\dagger(\\theta_i) \\hat{B}_{i+1} U_i(\\theta_i) | \\psi_{i-1} \\rangle = \\langle \\psi_{i-1} | \\mathcal{M}_{\\theta_i} (\\hat{B}_{i+1}) | \\psi_{i-1} \\rangle,$$\n",
    "\n",
    "and its gradient is \n",
    "\n",
    "$$ \\nabla_{\\theta_i}f(x; \\theta) = \\langle \\psi_{i-1} | \\nabla_{\\theta_i}\\mathcal{M}_{\\theta_i} (\\hat{B}_{i+1}) | \\psi_{i-1} \\rangle.$$\n",
    "\n",
    "This gradient has the exact same form as the single-gate case, except we modify the state $|x⟩ → |\\psi_{i-1}⟩$ and the measurement operator $\\hat{B}\\rightarrow\\hat{B}_{i+1}$. In terms of the circuit, this means we can leave all other gates as they are, and only modify gate $U(\\theta_i)$ when we want to differentiate with respect to the paramter $\\theta_i$\n",
    "\n",
    "------\n",
    "------\n"
   ]
  },
  {
   "cell_type": "markdown",
   "metadata": {
    "slideshow": {
     "slide_type": "slide"
    }
   },
   "source": [
    "### Homework"
   ]
  },
  {
   "cell_type": "markdown",
   "metadata": {},
   "source": [
    "#### H.1\n",
    "\n",
    "Unitary $t$-designs are a special class of parameterized circuits that maps a certain probability distribution over $\\Theta$ to the uniform distribution over quantum states of the system up to the $t$-th moment, i.e.the PQC respects the Haar measure over $SU(2^q)$ up to the $t$-th moment. A simplified version of such circuits for $t=2$ is implemented in Pennylane in the template `qml.SimplifiedTwoDesign` (https://docs.pennylane.ai/en/stable/code/api/pennylane.SimplifiedTwoDesign.html).\n",
    "\n",
    "For any given number of qubits $W$, create a function that outputs a quantum node that contain a simplified two design circuit with $L=W$ layers, and measures the expectation value of the observable in E.1. Morevorer, create a similar function that for any $W$ generates random parameters for the former circuit of the corresponding number of qubits (both `initial_weights` and `weights`)."
   ]
  },
  {
   "cell_type": "code",
   "execution_count": null,
   "metadata": {},
   "outputs": [],
   "source": []
  },
  {
   "cell_type": "markdown",
   "metadata": {},
   "source": [
    "#### H.2\n",
    "\n",
    "Consider the range of qubit numbers $W = [2,...12]$, and, using the utility created aboove, sample 30 random parameters for each value of $W$.\n",
    "Evaluate the corresponding qnode and compute the average gradient squared-norm per parameter, over the 30 samples. Note that, since there are 2 paramerer vectors, their gradients must be combined, i.e.\n",
    "\n",
    "$$\\mathbb{E}_\\theta \\left[\\frac{\n",
    "        ||\\nabla_{\\text{init weights}} C ||^2 + ||\\nabla_{\\text{weights}} C ||^2\n",
    "    }{\n",
    "        \\#(\\text{init weights}) + \\#(\\text{weights})\n",
    "    }\n",
    "    \\right] $$\n",
    "    \n"
   ]
  },
  {
   "cell_type": "markdown",
   "metadata": {},
   "source": [
    "$$= \\frac{1}{30} \\sum_{r=1}^{30} \\frac{\n",
    "        ||\\nabla_{\\text{init weights}} C(\\theta_r) ||^2  + ||\\nabla_{\\text{weights}} C(\\theta_r) ||^2\n",
    "    }{\n",
    "        L + 2L(W-1)\n",
    "    }$$\n",
    "\n",
    "Plot this average as a function of $W$ (try also semilogarithmic scale). What do you observe?\n",
    "\n",
    "(Computation may take few minutes)"
   ]
  },
  {
   "cell_type": "code",
   "execution_count": null,
   "metadata": {},
   "outputs": [],
   "source": []
  },
  {
   "cell_type": "code",
   "execution_count": null,
   "metadata": {},
   "outputs": [],
   "source": [
    "plt.title(\"Barren Plateau\")\n",
    "plt.xlabel(\"W\")\n",
    "plt.ylabel(\"Gradient norm\")\n",
    "\n",
    "plt.semilogy(range(2,W+1), grad_norms, \"-o\")\n",
    "plt.show()"
   ]
  }
 ],
 "metadata": {
  "celltoolbar": "Slideshow",
  "kernelspec": {
   "display_name": "Python 3 (ipykernel)",
   "language": "python",
   "name": "python3"
  },
  "language_info": {
   "codemirror_mode": {
    "name": "ipython",
    "version": 3
   },
   "file_extension": ".py",
   "mimetype": "text/x-python",
   "name": "python",
   "nbconvert_exporter": "python",
   "pygments_lexer": "ipython3",
   "version": "3.9.19"
  }
 },
 "nbformat": 4,
 "nbformat_minor": 4
}
